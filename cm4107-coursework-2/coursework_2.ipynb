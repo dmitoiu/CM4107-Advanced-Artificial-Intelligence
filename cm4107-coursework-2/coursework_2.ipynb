{
 "cells": [
  {
   "cell_type": "markdown",
   "metadata": {},
   "source": [
    "### ----------------------------------------------------------------------------------------------------------------------\n",
    "### Darie-Dragos Mitoiu - 1905367\n",
    "### CM4107 Advanced Artificial Intelligence\n",
    "### Coursework Part 2 Comparative Study v1.0.0 08/12/2020\n",
    "### A jupyter notebook for a comparative study\n",
    "### ----------------------------------------------------------------------------------------------------------------------"
   ]
  },
  {
   "cell_type": "markdown",
   "metadata": {},
   "source": [
    "### Importing Libraries"
   ]
  },
  {
   "cell_type": "code",
   "execution_count": 50,
   "metadata": {},
   "outputs": [],
   "source": [
    "# Importing libraries\n",
    "import pandas as pd\n",
    "import numpy as np\n",
    "import scipy.special\n",
    "import matplotlib.pyplot as plt\n",
    "import seaborn as sns\n",
    "\n",
    "#import regular expressions to clean up the text\n",
    "import re\n",
    "\n",
    "#for nlp\n",
    "import nltk\n",
    "from nltk.corpus import stopwords \n",
    "from nltk.stem.snowball import SnowballStemmer\n",
    "from nltk.corpus import stopwords\n",
    "\n",
    "#import method releated to evaluation\n",
    "from sklearn import model_selection\n",
    "from sklearn.model_selection import train_test_split, KFold, StratifiedKFold, StratifiedShuffleSplit, ShuffleSplit, cross_val_score\n",
    "\n",
    "from sklearn.pipeline import Pipeline\n",
    "from sklearn.pipeline import make_pipeline\n",
    "from sklearn.linear_model import LogisticRegression\n",
    "from sklearn.naive_bayes import MultinomialNB\n",
    "from sklearn.feature_extraction.text import TfidfVectorizer\n",
    "from sklearn.model_selection import GridSearchCV\n",
    "        \n",
    "#transformers\n",
    "from sklearn.preprocessing import StandardScaler\n",
    "\n",
    "#metrics\n",
    "from sklearn.metrics import classification_report, confusion_matrix, roc_curve, auc\n",
    "\n",
    "#export the models from the sklearn library\n",
    "from sklearn.neural_network import MLPClassifier\n",
    "from sklearn.svm import SVC\n",
    "\n",
    "from keras.models import Sequential\n",
    "from keras.layers import Dense\n",
    "from keras.layers import LSTM\n",
    "from keras.layers.embeddings import Embedding\n",
    "from keras.preprocessing import sequence"
   ]
  },
  {
   "cell_type": "markdown",
   "metadata": {},
   "source": [
    "### Setting Preferences"
   ]
  },
  {
   "cell_type": "code",
   "execution_count": 51,
   "metadata": {},
   "outputs": [],
   "source": [
    "# Setting matplotlib inline\n",
    "%matplotlib inline\n",
    "# Setting seaborn style\n",
    "sns.set_style(\"darkgrid\")\n",
    "# Setting numpy seed\n",
    "np.random.seed(42)"
   ]
  },
  {
   "cell_type": "markdown",
   "metadata": {},
   "source": [
    "### Utility Functions"
   ]
  },
  {
   "cell_type": "code",
   "execution_count": 52,
   "metadata": {},
   "outputs": [],
   "source": [
    "def preprocessor(text):\n",
    "    text = re.sub('<[^>]*>', '', text) # remove all html markup\n",
    "    emoticons = re.findall('(?::|;|=)(?:-)?(?:\\)|\\(|D|P)', text) # findall the emoticons\n",
    "    \n",
    "    # remove the non-word chars '[\\W]+'\n",
    "    # append the emoticons to end \n",
    "    #convert all to lowercase\n",
    "    # remove the nose char in emojis for consistency\n",
    "    text = (re.sub('[\\W]+', ' ', text.lower()) +\n",
    "            ' '.join(emoticons).replace('-', '')) \n",
    "    return text\n",
    "\n",
    "def tokenizer(text):\n",
    "       return text.split()\n",
    "\n",
    "def tokenizer_stemmer(text):\n",
    "    return [stemmer.stem(word) for word in tokenizer(text)]#text.split()]\n",
    "\n",
    "\n",
    "def stop_removal(text):\n",
    "       return [w for w in text if not w in stop]"
   ]
  },
  {
   "cell_type": "markdown",
   "metadata": {},
   "source": [
    "### Global Variables"
   ]
  },
  {
   "cell_type": "code",
   "execution_count": 67,
   "metadata": {},
   "outputs": [
    {
     "name": "stderr",
     "output_type": "stream",
     "text": [
      "[nltk_data] Downloading package stopwords to\n",
      "[nltk_data]     C:\\Users\\Darie\\AppData\\Roaming\\nltk_data...\n",
      "[nltk_data]   Package stopwords is already up-to-date!\n",
      "[nltk_data] Downloading package stopwords to\n",
      "[nltk_data]     C:\\Users\\Darie\\AppData\\Roaming\\nltk_data...\n",
      "[nltk_data]   Package stopwords is already up-to-date!\n"
     ]
    }
   ],
   "source": [
    "### Set Global Variables\n",
    "\n",
    "# Set the file names\n",
    "movies_file = \"data/movie_data_cat.csv\"\n",
    "spam_file = \"data/SMSSpamData.csv\"\n",
    "\n",
    "# Text Pre Processing\n",
    "nltk.download('stopwords')\n",
    "stop = set(stopwords.words('english'))\n",
    "stemmer = SnowballStemmer(\"english\")\n",
    "\n",
    "# Read the training dataset\n",
    "df_imdb = pd.read_csv(movies_file, encoding='utf-8', nrows=30000)\n",
    "df_spam = pd.read_csv(spam_file, encoding=\"utf-8\")\n",
    "\n",
    "nltk.download('stopwords')\n",
    "stop = set(stopwords.words('english'))\n",
    "stemmer = SnowballStemmer(\"english\")"
   ]
  },
  {
   "cell_type": "markdown",
   "metadata": {},
   "source": [
    "### IMDB Movies Data Exploration"
   ]
  },
  {
   "cell_type": "code",
   "execution_count": 68,
   "metadata": {},
   "outputs": [
    {
     "name": "stdout",
     "output_type": "stream",
     "text": [
      "                                              review sentiment\n",
      "0  In 1974, the teenager Martha Moxley (Maggie Gr...       pos\n",
      "1  OK... so... I really like Kris Kristofferson a...       neg\n",
      "2  ***SPOILER*** Do not read this, if you think a...       neg\n",
      "3  hi for all the people who have seen this wonde...       pos\n",
      "4  I recently bought the DVD, forgetting just how...       neg\n",
      "5  Leave it to Braik to put on a good show. Final...       pos\n",
      "6  Nathan Detroit (Frank Sinatra) is the manager ...       pos\n",
      "7  To understand \"Crash Course\" in the right cont...       pos\n",
      "8  I've been impressed with Chavez's stance again...       pos\n",
      "9  This movie is directed by Renny Harlin the fin...       pos\n"
     ]
    },
    {
     "data": {
      "text/plain": [
       "Index(['review', 'sentiment'], dtype='object')"
      ]
     },
     "execution_count": 68,
     "metadata": {},
     "output_type": "execute_result"
    }
   ],
   "source": [
    "print(df_imdb.head(10))\n",
    "df_imdb.shape\n",
    "df_imdb.columns"
   ]
  },
  {
   "cell_type": "code",
   "execution_count": 69,
   "metadata": {},
   "outputs": [
    {
     "name": "stdout",
     "output_type": "stream",
     "text": [
      "<class 'pandas.core.frame.DataFrame'>\n",
      "RangeIndex: 30000 entries, 0 to 29999\n",
      "Data columns (total 2 columns):\n",
      " #   Column     Non-Null Count  Dtype \n",
      "---  ------     --------------  ----- \n",
      " 0   review     30000 non-null  object\n",
      " 1   sentiment  30000 non-null  object\n",
      "dtypes: object(2)\n",
      "memory usage: 468.9+ KB\n",
      "None\n"
     ]
    }
   ],
   "source": [
    "print(df_imdb.info())"
   ]
  },
  {
   "cell_type": "markdown",
   "metadata": {},
   "source": [
    "### Spam Data Exploration"
   ]
  },
  {
   "cell_type": "code",
   "execution_count": 70,
   "metadata": {},
   "outputs": [
    {
     "name": "stdout",
     "output_type": "stream",
     "text": [
      "  class                                            sms_msg\n",
      "0   ham  Go until jurong point, crazy.. Available only ...\n",
      "1   ham                      Ok lar... Joking wif u oni...\n",
      "2  spam  Free entry in 2 a wkly comp to win FA Cup fina...\n",
      "3   ham  U dun say so early hor... U c already then say...\n",
      "4   ham  Nah I don't think he goes to usf, he lives aro...\n",
      "5  spam  FreeMsg Hey there darling it's been 3 week's n...\n",
      "6   ham  Even my brother is not like to speak with me. ...\n",
      "7   ham  As per your request 'Melle Melle (Oru Minnamin...\n",
      "8  spam  WINNER!! As a valued network customer you have...\n",
      "9  spam  Had your mobile 11 months or more? U R entitle...\n"
     ]
    },
    {
     "data": {
      "text/plain": [
       "Index(['class', 'sms_msg'], dtype='object')"
      ]
     },
     "execution_count": 70,
     "metadata": {},
     "output_type": "execute_result"
    }
   ],
   "source": [
    "print(df_spam.head(10))\n",
    "df_spam.shape\n",
    "df_spam.columns"
   ]
  },
  {
   "cell_type": "code",
   "execution_count": 71,
   "metadata": {},
   "outputs": [
    {
     "name": "stdout",
     "output_type": "stream",
     "text": [
      "<class 'pandas.core.frame.DataFrame'>\n",
      "RangeIndex: 5574 entries, 0 to 5573\n",
      "Data columns (total 2 columns):\n",
      " #   Column   Non-Null Count  Dtype \n",
      "---  ------   --------------  ----- \n",
      " 0   class    5574 non-null   object\n",
      " 1   sms_msg  5574 non-null   object\n",
      "dtypes: object(2)\n",
      "memory usage: 87.2+ KB\n",
      "None\n"
     ]
    }
   ],
   "source": [
    "print(df_spam.info())"
   ]
  },
  {
   "cell_type": "markdown",
   "metadata": {},
   "source": [
    "### IMDB Movies Review Pre-Processing"
   ]
  },
  {
   "cell_type": "code",
   "execution_count": 72,
   "metadata": {},
   "outputs": [
    {
     "name": "stdout",
     "output_type": "stream",
     "text": [
      "{'neg': 0, 'pos': 1}\n"
     ]
    },
    {
     "data": {
      "text/html": [
       "<div>\n",
       "<style scoped>\n",
       "    .dataframe tbody tr th:only-of-type {\n",
       "        vertical-align: middle;\n",
       "    }\n",
       "\n",
       "    .dataframe tbody tr th {\n",
       "        vertical-align: top;\n",
       "    }\n",
       "\n",
       "    .dataframe thead th {\n",
       "        text-align: right;\n",
       "    }\n",
       "</style>\n",
       "<table border=\"1\" class=\"dataframe\">\n",
       "  <thead>\n",
       "    <tr style=\"text-align: right;\">\n",
       "      <th></th>\n",
       "      <th>review</th>\n",
       "      <th>sentiment</th>\n",
       "    </tr>\n",
       "  </thead>\n",
       "  <tbody>\n",
       "    <tr>\n",
       "      <th>0</th>\n",
       "      <td>In 1974, the teenager Martha Moxley (Maggie Gr...</td>\n",
       "      <td>1</td>\n",
       "    </tr>\n",
       "    <tr>\n",
       "      <th>1</th>\n",
       "      <td>OK... so... I really like Kris Kristofferson a...</td>\n",
       "      <td>0</td>\n",
       "    </tr>\n",
       "    <tr>\n",
       "      <th>2</th>\n",
       "      <td>***SPOILER*** Do not read this, if you think a...</td>\n",
       "      <td>0</td>\n",
       "    </tr>\n",
       "    <tr>\n",
       "      <th>3</th>\n",
       "      <td>hi for all the people who have seen this wonde...</td>\n",
       "      <td>1</td>\n",
       "    </tr>\n",
       "    <tr>\n",
       "      <th>4</th>\n",
       "      <td>I recently bought the DVD, forgetting just how...</td>\n",
       "      <td>0</td>\n",
       "    </tr>\n",
       "    <tr>\n",
       "      <th>5</th>\n",
       "      <td>Leave it to Braik to put on a good show. Final...</td>\n",
       "      <td>1</td>\n",
       "    </tr>\n",
       "    <tr>\n",
       "      <th>6</th>\n",
       "      <td>Nathan Detroit (Frank Sinatra) is the manager ...</td>\n",
       "      <td>1</td>\n",
       "    </tr>\n",
       "    <tr>\n",
       "      <th>7</th>\n",
       "      <td>To understand \"Crash Course\" in the right cont...</td>\n",
       "      <td>1</td>\n",
       "    </tr>\n",
       "    <tr>\n",
       "      <th>8</th>\n",
       "      <td>I've been impressed with Chavez's stance again...</td>\n",
       "      <td>1</td>\n",
       "    </tr>\n",
       "    <tr>\n",
       "      <th>9</th>\n",
       "      <td>This movie is directed by Renny Harlin the fin...</td>\n",
       "      <td>1</td>\n",
       "    </tr>\n",
       "  </tbody>\n",
       "</table>\n",
       "</div>"
      ],
      "text/plain": [
       "                                              review  sentiment\n",
       "0  In 1974, the teenager Martha Moxley (Maggie Gr...          1\n",
       "1  OK... so... I really like Kris Kristofferson a...          0\n",
       "2  ***SPOILER*** Do not read this, if you think a...          0\n",
       "3  hi for all the people who have seen this wonde...          1\n",
       "4  I recently bought the DVD, forgetting just how...          0\n",
       "5  Leave it to Braik to put on a good show. Final...          1\n",
       "6  Nathan Detroit (Frank Sinatra) is the manager ...          1\n",
       "7  To understand \"Crash Course\" in the right cont...          1\n",
       "8  I've been impressed with Chavez's stance again...          1\n",
       "9  This movie is directed by Renny Harlin the fin...          1"
      ]
     },
     "execution_count": 72,
     "metadata": {},
     "output_type": "execute_result"
    }
   ],
   "source": [
    "class_mapping_imdb = {label:idx for idx,label in enumerate(np.unique(df_imdb['sentiment']))}\n",
    "\n",
    "print(class_mapping_imdb)\n",
    "\n",
    "#use the mapping dictionary to transform the class labels into integers\n",
    "\n",
    "df_imdb['sentiment'] = df_imdb['sentiment'].map(class_mapping_imdb)\n",
    "df_imdb.head(10)"
   ]
  },
  {
   "cell_type": "code",
   "execution_count": 73,
   "metadata": {},
   "outputs": [
    {
     "data": {
      "text/plain": [
       "'not often it happens that a great director s last movie becomes such a moving brillantly performed and filmed masterpiece the cast is excellent as well as the camerawork what starts up as a merry coming together of a group of well educated citizens of an early 20th century dublin turns into a dark philosophic narration about all our fear from death and the sometimes dark shadows of the past thank you mister huston for this last piece of great cinema '"
      ]
     },
     "execution_count": 73,
     "metadata": {},
     "output_type": "execute_result"
    }
   ],
   "source": [
    "preprocessor(df_imdb.loc[3635, 'review'])"
   ]
  },
  {
   "cell_type": "code",
   "execution_count": 74,
   "metadata": {},
   "outputs": [],
   "source": [
    "# apply the preprocessor to the entire dataframe (i.e. column review)\n",
    "df_imdb['review'] = df_imdb['review'].apply(preprocessor)"
   ]
  },
  {
   "cell_type": "code",
   "execution_count": 75,
   "metadata": {},
   "outputs": [],
   "source": [
    "data_imdb_X_test = df_imdb.loc[25000:, 'review'].values\n",
    "data_imdb_Y_test = df_imdb.loc[25000:, 'sentiment'].values\n",
    "\n",
    "### smaller sample\n",
    "data_imdb_X_train = df_imdb.loc[:3500, 'review'].values\n",
    "data_imdb_Y_train = df_imdb.loc[:3500, 'sentiment'].values"
   ]
  },
  {
   "cell_type": "markdown",
   "metadata": {},
   "source": [
    "### General Operations and Models Creation"
   ]
  },
  {
   "cell_type": "code",
   "execution_count": 76,
   "metadata": {},
   "outputs": [],
   "source": [
    "# Models\n",
    "mlp_model = MLPClassifier()\n",
    "svm_model = SVC(kernel='rbf', gamma=0.7, C=1.0)\n",
    "\n",
    "# GridSearchCV Parameters\n",
    "\n",
    "param_grid_tfidf = [{'tfidfvectorizer__ngram_range': [(1, 2)], #extract 1-gram (single word tokens) and 2-grams of words \n",
    "                      'tfidfvectorizer__stop_words': [None], # use the stop dictionary of stopwords or not\n",
    "                      'tfidfvectorizer__max_features': [1000, 4000], # set the vocabulary size\n",
    "                      'tfidfvectorizer__tokenizer': [tokenizer_stemmer]}, # use a tokeniser and the stemmer \n",
    "                    ]\n",
    "\n",
    "param_grid_mlp = {\"mlpclassifier__hidden_layer_sizes\":[(10,), (15,), (20,), (25,), (30,)],\n",
    "                   \"mlpclassifier__learning_rate_init\":[0.1, 0.2, 0.3, 0.4, 0.5, 0.6, 0.7, 0.8, 0.9, 1.0]}\n",
    "\n",
    "param_grid_svm = {\"svc__C\":[0.001, 0.01, 0.1, 1.0, 10.0, 100.0],\n",
    "                  \"svc__gamma\": [0.001, 0.01, 0.1]}\n",
    "\n",
    "tfidf = TfidfVectorizer(strip_accents=None,\n",
    "                        lowercase=False,\n",
    "                        #max_features=4000,\n",
    "                        min_df=7,\n",
    "                        preprocessor=None)\n",
    "\n",
    "pipeline_mlp = make_pipeline(TfidfVectorizer(strip_accents=None,\n",
    "                         lowercase=False, min_df=7, preprocessor=None), \n",
    "                         mlp_model)\n",
    "\n",
    "gs_tfidf_mlp = GridSearchCV(pipeline_mlp, param_grid_mlp,\n",
    "                        scoring='accuracy',\n",
    "                        cv=3,\n",
    "                        verbose=1,\n",
    "                        n_jobs=1) \n",
    "\n",
    "pipeline_svm = make_pipeline(TfidfVectorizer(strip_accents=None,\n",
    "                         lowercase=False, min_df=7, preprocessor=None), \n",
    "                         svm_model)\n",
    "\n",
    "gs_tfidf_svm = GridSearchCV(pipeline_svm, param_grid_svm,\n",
    "                        scoring='accuracy',\n",
    "                        cv=3,\n",
    "                        verbose=1,\n",
    "                        n_jobs=1) "
   ]
  },
  {
   "cell_type": "markdown",
   "metadata": {},
   "source": [
    "### IMDB Models Training"
   ]
  },
  {
   "cell_type": "code",
   "execution_count": 77,
   "metadata": {},
   "outputs": [
    {
     "name": "stdout",
     "output_type": "stream",
     "text": [
      "Fitting 3 folds for each of 50 candidates, totalling 150 fits\n"
     ]
    },
    {
     "name": "stderr",
     "output_type": "stream",
     "text": [
      "[Parallel(n_jobs=1)]: Using backend SequentialBackend with 1 concurrent workers.\n",
      "[Parallel(n_jobs=1)]: Done 150 out of 150 | elapsed:  7.2min finished\n"
     ]
    },
    {
     "data": {
      "text/plain": [
       "GridSearchCV(cv=3,\n",
       "             estimator=Pipeline(steps=[('tfidfvectorizer',\n",
       "                                        TfidfVectorizer(lowercase=False,\n",
       "                                                        min_df=7)),\n",
       "                                       ('mlpclassifier', MLPClassifier())]),\n",
       "             n_jobs=1,\n",
       "             param_grid={'mlpclassifier__hidden_layer_sizes': [(10,), (15,),\n",
       "                                                               (20,), (25,),\n",
       "                                                               (30,)],\n",
       "                         'mlpclassifier__learning_rate_init': [0.1, 0.2, 0.3,\n",
       "                                                               0.4, 0.5, 0.6,\n",
       "                                                               0.7, 0.8, 0.9,\n",
       "                                                               1.0]},\n",
       "             scoring='accuracy', verbose=1)"
      ]
     },
     "execution_count": 77,
     "metadata": {},
     "output_type": "execute_result"
    }
   ],
   "source": [
    "gs_tfidf_mlp.fit(data_imdb_X_train, data_imdb_Y_train)"
   ]
  },
  {
   "cell_type": "code",
   "execution_count": 78,
   "metadata": {},
   "outputs": [
    {
     "name": "stdout",
     "output_type": "stream",
     "text": [
      "Best parameter set: {'mlpclassifier__hidden_layer_sizes': (25,), 'mlpclassifier__learning_rate_init': 0.1} \n",
      "CV Accuracy: 0.834\n"
     ]
    }
   ],
   "source": [
    "print('Best parameter set: %s ' % gs_tfidf_mlp.best_params_)\n",
    "print('CV Accuracy: %.3f' % gs_tfidf_mlp.best_score_)"
   ]
  },
  {
   "cell_type": "code",
   "execution_count": 79,
   "metadata": {},
   "outputs": [
    {
     "name": "stdout",
     "output_type": "stream",
     "text": [
      "Test Accuracy: 0.844\n"
     ]
    }
   ],
   "source": [
    "clf_mlp_imdb = gs_tfidf_mlp.best_estimator_\n",
    "print('Test Accuracy: %.3f' % clf_mlp_imdb.score(data_imdb_X_test, data_imdb_Y_test))"
   ]
  },
  {
   "cell_type": "code",
   "execution_count": 80,
   "metadata": {},
   "outputs": [
    {
     "name": "stdout",
     "output_type": "stream",
     "text": [
      "              precision    recall  f1-score   support\n",
      "\n",
      "           0       0.84      0.85      0.85      2533\n",
      "           1       0.85      0.83      0.84      2467\n",
      "\n",
      "    accuracy                           0.84      5000\n",
      "   macro avg       0.84      0.84      0.84      5000\n",
      "weighted avg       0.84      0.84      0.84      5000\n",
      "\n"
     ]
    }
   ],
   "source": [
    "data_imdb_predictions_mlp = gs_tfidf_mlp.best_estimator_.predict(data_imdb_X_test)\n",
    "print(classification_report(data_imdb_Y_test, data_imdb_predictions_mlp))"
   ]
  },
  {
   "cell_type": "code",
   "execution_count": 81,
   "metadata": {},
   "outputs": [
    {
     "name": "stdout",
     "output_type": "stream",
     "text": [
      "Fitting 3 folds for each of 18 candidates, totalling 54 fits\n"
     ]
    },
    {
     "name": "stderr",
     "output_type": "stream",
     "text": [
      "[Parallel(n_jobs=1)]: Using backend SequentialBackend with 1 concurrent workers.\n",
      "[Parallel(n_jobs=1)]: Done  54 out of  54 | elapsed:  6.3min finished\n"
     ]
    },
    {
     "data": {
      "text/plain": [
       "GridSearchCV(cv=3,\n",
       "             estimator=Pipeline(steps=[('tfidfvectorizer',\n",
       "                                        TfidfVectorizer(lowercase=False,\n",
       "                                                        min_df=7)),\n",
       "                                       ('svc', SVC(gamma=0.7))]),\n",
       "             n_jobs=1,\n",
       "             param_grid={'svc__C': [0.001, 0.01, 0.1, 1.0, 10.0, 100.0],\n",
       "                         'svc__gamma': [0.001, 0.01, 0.1]},\n",
       "             scoring='accuracy', verbose=1)"
      ]
     },
     "execution_count": 81,
     "metadata": {},
     "output_type": "execute_result"
    }
   ],
   "source": [
    "gs_tfidf_svm.fit(data_imdb_X_train, data_imdb_Y_train)"
   ]
  },
  {
   "cell_type": "code",
   "execution_count": 82,
   "metadata": {},
   "outputs": [
    {
     "name": "stdout",
     "output_type": "stream",
     "text": [
      "Best parameter set: {'svc__C': 10.0, 'svc__gamma': 0.1} \n",
      "CV Accuracy: 0.831\n"
     ]
    }
   ],
   "source": [
    "print('Best parameter set: %s ' % gs_tfidf_svm.best_params_)\n",
    "print('CV Accuracy: %.3f' % gs_tfidf_svm.best_score_)"
   ]
  },
  {
   "cell_type": "code",
   "execution_count": 83,
   "metadata": {},
   "outputs": [
    {
     "name": "stdout",
     "output_type": "stream",
     "text": [
      "Test Accuracy: 0.852\n"
     ]
    }
   ],
   "source": [
    "clf_svm_imdb = gs_tfidf_svm.best_estimator_\n",
    "print('Test Accuracy: %.3f' % clf_svm_imdb.score(data_imdb_X_test, data_imdb_Y_test))"
   ]
  },
  {
   "cell_type": "code",
   "execution_count": 84,
   "metadata": {},
   "outputs": [
    {
     "name": "stdout",
     "output_type": "stream",
     "text": [
      "              precision    recall  f1-score   support\n",
      "\n",
      "           0       0.85      0.86      0.85      2533\n",
      "           1       0.85      0.85      0.85      2467\n",
      "\n",
      "    accuracy                           0.85      5000\n",
      "   macro avg       0.85      0.85      0.85      5000\n",
      "weighted avg       0.85      0.85      0.85      5000\n",
      "\n"
     ]
    }
   ],
   "source": [
    "data_imdb_predictions_svm = gs_tfidf_svm.best_estimator_.predict(data_imdb_X_test)\n",
    "print(classification_report(data_imdb_Y_test, data_imdb_predictions_svm))"
   ]
  },
  {
   "cell_type": "code",
   "execution_count": 85,
   "metadata": {},
   "outputs": [],
   "source": [
    "from keras.datasets import imdb\n",
    "\n",
    "# load the dataset but only keep the top n words, zero the rest\n",
    "top_words = 5000\n",
    "# modify the default parameters of np.load\n",
    "np_load_old = np.load\n",
    "np.load = lambda *a,**k: np_load_old(*a, allow_pickle=True)\n",
    "(imdb_rnn_X_train, imdb_rnn_y_train), (imdb_rnn_X_test, imdb_rnn_y_test) = imdb.load_data(num_words=top_words)\n",
    "# restore np.load for future normal usage\n",
    "np.load = np_load_old"
   ]
  },
  {
   "cell_type": "code",
   "execution_count": 86,
   "metadata": {},
   "outputs": [],
   "source": [
    "# truncate and pad input sequences\n",
    "max_review_length = 500\n",
    "imdb_rnn_X_train = sequence.pad_sequences(imdb_rnn_X_train, maxlen=max_review_length)\n",
    "imdb_rnn_X_test = sequence.pad_sequences(imdb_rnn_X_test, maxlen=max_review_length)"
   ]
  },
  {
   "cell_type": "code",
   "execution_count": 87,
   "metadata": {},
   "outputs": [],
   "source": [
    "def create_model(top_words, max_review_length, embedding_size):\n",
    "    model = Sequential()\n",
    "    model.add(Embedding(top_words, embedding_size, input_length=max_review_length))\n",
    "    #model.add(Dropout(0.2))\n",
    "    model.add(LSTM(100))\n",
    "    #model.add(Dropout(0.2))\n",
    "    model.add(Dense(1, activation='sigmoid'))\n",
    "    return model"
   ]
  },
  {
   "cell_type": "code",
   "execution_count": 88,
   "metadata": {},
   "outputs": [
    {
     "name": "stdout",
     "output_type": "stream",
     "text": [
      "Epoch 1/3\n",
      "391/391 [==============================] - 182s 466ms/step - loss: 0.4677 - accuracy: 0.7726 - val_loss: 0.3605 - val_accuracy: 0.8560\n",
      "Epoch 2/3\n",
      "391/391 [==============================] - 207s 529ms/step - loss: 0.2972 - accuracy: 0.8824 - val_loss: 0.3459 - val_accuracy: 0.8562\n",
      "Epoch 3/3\n",
      "391/391 [==============================] - 212s 543ms/step - loss: 0.2656 - accuracy: 0.8964 - val_loss: 0.3169 - val_accuracy: 0.8691\n"
     ]
    },
    {
     "data": {
      "text/plain": [
       "<tensorflow.python.keras.callbacks.History at 0x1e6f2abeeb0>"
      ]
     },
     "execution_count": 88,
     "metadata": {},
     "output_type": "execute_result"
    }
   ],
   "source": [
    "embedding_size = 32\n",
    "\n",
    "loss = 'binary_crossentropy'\n",
    "optimizer = 'adam'\n",
    "metrics = 'accuracy'\n",
    "\n",
    "epochs = 3\n",
    "batch_size = 64\n",
    "\n",
    "\n",
    "model = create_model(top_words, max_review_length, embedding_size)\n",
    "model.compile(loss=loss, \n",
    "              optimizer=optimizer,\n",
    "              metrics=[metrics])\n",
    "\n",
    "model.fit(imdb_rnn_X_train, imdb_rnn_y_train,\n",
    "          validation_data=(imdb_rnn_X_test, imdb_rnn_y_test),\n",
    "          epochs=epochs,\n",
    "          batch_size=batch_size)"
   ]
  },
  {
   "cell_type": "code",
   "execution_count": 89,
   "metadata": {},
   "outputs": [
    {
     "name": "stdout",
     "output_type": "stream",
     "text": [
      "Accuracy: 86.91%\n"
     ]
    }
   ],
   "source": [
    "# Final evaluation of the model\n",
    "imdb_rnn_scores = model.evaluate(imdb_rnn_X_test, imdb_rnn_y_test, verbose=0)\n",
    "print(\"Accuracy: %.2f%%\" % (imdb_rnn_scores[1]*100))"
   ]
  },
  {
   "cell_type": "markdown",
   "metadata": {},
   "source": [
    "### Spam Data Exloration"
   ]
  },
  {
   "cell_type": "code",
   "execution_count": 90,
   "metadata": {},
   "outputs": [
    {
     "name": "stdout",
     "output_type": "stream",
     "text": [
      "  class                                            sms_msg\n",
      "0   ham  Go until jurong point, crazy.. Available only ...\n",
      "1   ham                      Ok lar... Joking wif u oni...\n",
      "2  spam  Free entry in 2 a wkly comp to win FA Cup fina...\n",
      "3   ham  U dun say so early hor... U c already then say...\n",
      "4   ham  Nah I don't think he goes to usf, he lives aro...\n",
      "5  spam  FreeMsg Hey there darling it's been 3 week's n...\n",
      "6   ham  Even my brother is not like to speak with me. ...\n",
      "7   ham  As per your request 'Melle Melle (Oru Minnamin...\n",
      "8  spam  WINNER!! As a valued network customer you have...\n",
      "9  spam  Had your mobile 11 months or more? U R entitle...\n"
     ]
    },
    {
     "data": {
      "text/plain": [
       "Index(['class', 'sms_msg'], dtype='object')"
      ]
     },
     "execution_count": 90,
     "metadata": {},
     "output_type": "execute_result"
    }
   ],
   "source": [
    "print(df_spam.head(10))\n",
    "df_spam.shape\n",
    "df_spam.columns"
   ]
  },
  {
   "cell_type": "markdown",
   "metadata": {},
   "source": [
    "### Spam Text Messages Pre-Processing"
   ]
  },
  {
   "cell_type": "code",
   "execution_count": 91,
   "metadata": {},
   "outputs": [
    {
     "name": "stdout",
     "output_type": "stream",
     "text": [
      "{'ham': 0, 'spam': 1}\n"
     ]
    }
   ],
   "source": [
    "class_mapping_spam = {label:idx for idx,label in enumerate(np.unique(df_spam['class']))}\n",
    "\n",
    "print(class_mapping_spam)\n",
    "class_labels_spam = [x for x in class_mapping_spam] # store the class labels for later"
   ]
  },
  {
   "cell_type": "code",
   "execution_count": 92,
   "metadata": {},
   "outputs": [],
   "source": [
    "df_spam[\"class\"] = df_spam[\"class\"].map(class_mapping_spam)"
   ]
  },
  {
   "cell_type": "code",
   "execution_count": 93,
   "metadata": {},
   "outputs": [
    {
     "data": {
      "text/plain": [
       "'xxxmobilemovieclub to use your credit click the wap link in the next txt message or click here http wap xxxmobilemovieclub com n qjkgighjjgcbl'"
      ]
     },
     "execution_count": 93,
     "metadata": {},
     "output_type": "execute_result"
    }
   ],
   "source": [
    "preprocessor(df_spam.loc[15, 'sms_msg'])"
   ]
  },
  {
   "cell_type": "code",
   "execution_count": 94,
   "metadata": {},
   "outputs": [],
   "source": [
    "df_spam['sms_msg'] = df_spam['sms_msg'].apply(preprocessor)"
   ]
  },
  {
   "cell_type": "code",
   "execution_count": 95,
   "metadata": {},
   "outputs": [],
   "source": [
    "spam_X = df_spam.loc[:, 'sms_msg'].values\n",
    "spam_y = df_spam.loc[:, 'class'].values\n",
    "\n",
    "data_spam_X_train, data_spam_X_test, data_spam_y_train, data_spam_y_test = train_test_split(spam_X, spam_y, \n",
    "                                                                                            random_state=42,\n",
    "                                                                                            test_size=0.30,\n",
    "                                                                                            stratify=spam_y)"
   ]
  },
  {
   "cell_type": "markdown",
   "metadata": {},
   "source": [
    "### Spam Text Messages Models Training"
   ]
  },
  {
   "cell_type": "code",
   "execution_count": 96,
   "metadata": {},
   "outputs": [
    {
     "name": "stdout",
     "output_type": "stream",
     "text": [
      "Fitting 3 folds for each of 50 candidates, totalling 150 fits\n"
     ]
    },
    {
     "name": "stderr",
     "output_type": "stream",
     "text": [
      "[Parallel(n_jobs=1)]: Using backend SequentialBackend with 1 concurrent workers.\n",
      "[Parallel(n_jobs=1)]: Done 150 out of 150 | elapsed:  1.3min finished\n"
     ]
    },
    {
     "data": {
      "text/plain": [
       "GridSearchCV(cv=3,\n",
       "             estimator=Pipeline(steps=[('tfidfvectorizer',\n",
       "                                        TfidfVectorizer(lowercase=False,\n",
       "                                                        min_df=7)),\n",
       "                                       ('mlpclassifier', MLPClassifier())]),\n",
       "             n_jobs=1,\n",
       "             param_grid={'mlpclassifier__hidden_layer_sizes': [(10,), (15,),\n",
       "                                                               (20,), (25,),\n",
       "                                                               (30,)],\n",
       "                         'mlpclassifier__learning_rate_init': [0.1, 0.2, 0.3,\n",
       "                                                               0.4, 0.5, 0.6,\n",
       "                                                               0.7, 0.8, 0.9,\n",
       "                                                               1.0]},\n",
       "             scoring='accuracy', verbose=1)"
      ]
     },
     "execution_count": 96,
     "metadata": {},
     "output_type": "execute_result"
    }
   ],
   "source": [
    "gs_tfidf_mlp.fit(data_spam_X_train, data_spam_y_train)"
   ]
  },
  {
   "cell_type": "code",
   "execution_count": 97,
   "metadata": {},
   "outputs": [
    {
     "name": "stdout",
     "output_type": "stream",
     "text": [
      "Best parameter set: {'mlpclassifier__hidden_layer_sizes': (25,), 'mlpclassifier__learning_rate_init': 0.4} \n",
      "CV Accuracy: 0.979\n"
     ]
    }
   ],
   "source": [
    "print('Best parameter set: %s ' % gs_tfidf_mlp.best_params_)\n",
    "print('CV Accuracy: %.3f' % gs_tfidf_mlp.best_score_)"
   ]
  },
  {
   "cell_type": "code",
   "execution_count": 98,
   "metadata": {},
   "outputs": [
    {
     "name": "stdout",
     "output_type": "stream",
     "text": [
      "Test Accuracy: 0.974\n"
     ]
    }
   ],
   "source": [
    "clf_mlp_spam = gs_tfidf_mlp.best_estimator_\n",
    "print('Test Accuracy: %.3f' % clf_mlp_spam.score(data_spam_X_test, data_spam_y_test))"
   ]
  },
  {
   "cell_type": "code",
   "execution_count": 99,
   "metadata": {},
   "outputs": [
    {
     "name": "stdout",
     "output_type": "stream",
     "text": [
      "              precision    recall  f1-score   support\n",
      "\n",
      "           0       0.99      0.98      0.99      1449\n",
      "           1       0.89      0.92      0.91       224\n",
      "\n",
      "    accuracy                           0.97      1673\n",
      "   macro avg       0.94      0.95      0.95      1673\n",
      "weighted avg       0.97      0.97      0.97      1673\n",
      "\n"
     ]
    }
   ],
   "source": [
    "data_spam_predictions_mlp = gs_tfidf_mlp.best_estimator_.predict(data_spam_X_test)\n",
    "print(classification_report(data_spam_y_test, data_spam_predictions_mlp))"
   ]
  },
  {
   "cell_type": "code",
   "execution_count": 100,
   "metadata": {},
   "outputs": [
    {
     "name": "stdout",
     "output_type": "stream",
     "text": [
      "Fitting 3 folds for each of 18 candidates, totalling 54 fits\n"
     ]
    },
    {
     "name": "stderr",
     "output_type": "stream",
     "text": [
      "[Parallel(n_jobs=1)]: Using backend SequentialBackend with 1 concurrent workers.\n",
      "[Parallel(n_jobs=1)]: Done  54 out of  54 | elapsed:   14.9s finished\n"
     ]
    },
    {
     "data": {
      "text/plain": [
       "GridSearchCV(cv=3,\n",
       "             estimator=Pipeline(steps=[('tfidfvectorizer',\n",
       "                                        TfidfVectorizer(lowercase=False,\n",
       "                                                        min_df=7)),\n",
       "                                       ('svc', SVC(gamma=0.7))]),\n",
       "             n_jobs=1,\n",
       "             param_grid={'svc__C': [0.001, 0.01, 0.1, 1.0, 10.0, 100.0],\n",
       "                         'svc__gamma': [0.001, 0.01, 0.1]},\n",
       "             scoring='accuracy', verbose=1)"
      ]
     },
     "execution_count": 100,
     "metadata": {},
     "output_type": "execute_result"
    }
   ],
   "source": [
    "gs_tfidf_svm.fit(data_spam_X_train, data_spam_y_train)"
   ]
  },
  {
   "cell_type": "code",
   "execution_count": 101,
   "metadata": {},
   "outputs": [
    {
     "name": "stdout",
     "output_type": "stream",
     "text": [
      "Best parameter set: {'svc__C': 10.0, 'svc__gamma': 0.1} \n",
      "CV Accuracy: 0.981\n"
     ]
    }
   ],
   "source": [
    "print('Best parameter set: %s ' % gs_tfidf_svm.best_params_)\n",
    "print('CV Accuracy: %.3f' % gs_tfidf_svm.best_score_)"
   ]
  },
  {
   "cell_type": "code",
   "execution_count": 102,
   "metadata": {},
   "outputs": [
    {
     "name": "stdout",
     "output_type": "stream",
     "text": [
      "Test Accuracy: 0.987\n"
     ]
    }
   ],
   "source": [
    "clf_svm_spam = gs_tfidf_svm.best_estimator_\n",
    "print('Test Accuracy: %.3f' % clf_svm_spam.score(data_spam_X_test, data_spam_y_test))"
   ]
  },
  {
   "cell_type": "code",
   "execution_count": 103,
   "metadata": {},
   "outputs": [
    {
     "name": "stdout",
     "output_type": "stream",
     "text": [
      "              precision    recall  f1-score   support\n",
      "\n",
      "           0       0.99      1.00      0.99      1449\n",
      "           1       0.99      0.92      0.95       224\n",
      "\n",
      "    accuracy                           0.99      1673\n",
      "   macro avg       0.99      0.96      0.97      1673\n",
      "weighted avg       0.99      0.99      0.99      1673\n",
      "\n"
     ]
    }
   ],
   "source": [
    "data_spam_predictions_svm = gs_tfidf_svm.best_estimator_.predict(data_spam_X_test)\n",
    "print(classification_report(data_spam_y_test, data_spam_predictions_svm))"
   ]
  },
  {
   "cell_type": "code",
   "execution_count": 104,
   "metadata": {},
   "outputs": [],
   "source": [
    "df=pd.read_csv(spam_file)\n",
    "df=df[[\"class\", \"sms_msg\"]]\n",
    "df.head()\n",
    "\n",
    "df[\"Spam\"]=pd.get_dummies(df[\"class\"], drop_first=True)\n",
    "df=df.drop('class', axis=1)\n",
    "df.head()\n",
    "\n",
    "import string\n",
    "from string import punctuation\n",
    "from sklearn.feature_extraction.text import CountVectorizer\n",
    "from sklearn.feature_extraction.text import TfidfTransformer\n",
    "\n",
    "def text_processing(message):\n",
    "    \n",
    "    Stopwords = stopwords.words('english')\n",
    "# Check characters to see if they are in punctuation\n",
    "    no_punctuation = [char for char in message if char not in string.punctuation]\n",
    "# Join the characters again to form the string\n",
    "    no_punctuation = ''.join(no_punctuation)\n",
    "    \n",
    "# Now just remove any stopwords\n",
    "    return ' '.join([word for word in no_punctuation.split() if word.lower() not in Stopwords])\n",
    "df['text'] = df['sms_msg'].apply(text_processing)\n",
    "df.head()\n",
    "\n",
    "from sklearn.model_selection import train_test_split\n",
    "\n",
    "spam_rnn_X=df[\"text\"].values\n",
    "spam_rnn_y=df[\"Spam\"].values\n",
    "spam_rnn_X_train, spam_rnn_X_test, spam_rnn_y_train, spam_rnn_y_test = train_test_split(spam_rnn_X, spam_rnn_y, test_size=0.20, random_state=42)\n",
    "\n",
    "#Vectorization\n",
    "bow = CountVectorizer()\n",
    "spam_rnn_X_train = bow.fit_transform(spam_rnn_X_train)\n",
    "spam_rnn_X_test = bow.transform(spam_rnn_X_test)\n",
    "#Term Frequency, Inverse Document Frequency\n",
    "from sklearn.feature_extraction.text import TfidfTransformer\n",
    "tfidf = TfidfTransformer()\n",
    "spam_rnn_X_train = tfidf.fit_transform(spam_rnn_X_train)\n",
    "spam_rnn_X_test = tfidf.transform(spam_rnn_X_test)\n",
    "spam_rnn_X_train=spam_rnn_X_train.toarray()\n",
    "spam_rnn_X_test=spam_rnn_X_test.toarray()"
   ]
  },
  {
   "cell_type": "code",
   "execution_count": 105,
   "metadata": {},
   "outputs": [],
   "source": [
    "# truncate and pad input sequences\n",
    "top_words = 5000\n",
    "max_review_length = 500\n",
    "spam_rnn_X_train = sequence.pad_sequences(spam_rnn_X_train, maxlen=max_review_length)\n",
    "spam_rnn_X_test = sequence.pad_sequences(spam_rnn_X_test, maxlen=max_review_length)"
   ]
  },
  {
   "cell_type": "code",
   "execution_count": 106,
   "metadata": {},
   "outputs": [],
   "source": [
    "def create_model(top_words, max_review_length, embedding_size):\n",
    "    model = Sequential()\n",
    "    model.add(Embedding(top_words, embedding_size, input_length=max_review_length))\n",
    "    #model.add(Dropout(0.2))\n",
    "    model.add(LSTM(100))\n",
    "    #model.add(Dropout(0.2))\n",
    "    model.add(Dense(1, activation='sigmoid'))\n",
    "    return model"
   ]
  },
  {
   "cell_type": "code",
   "execution_count": 107,
   "metadata": {},
   "outputs": [
    {
     "name": "stdout",
     "output_type": "stream",
     "text": [
      "Epoch 1/3\n",
      "70/70 [==============================] - 30s 429ms/step - loss: 0.4165 - accuracy: 0.8686 - val_loss: 0.4129 - val_accuracy: 0.8556\n",
      "Epoch 2/3\n",
      "70/70 [==============================] - 31s 443ms/step - loss: 0.3903 - accuracy: 0.8686 - val_loss: 0.4134 - val_accuracy: 0.8556\n",
      "Epoch 3/3\n",
      "70/70 [==============================] - 33s 471ms/step - loss: 0.3896 - accuracy: 0.8686 - val_loss: 0.4161 - val_accuracy: 0.8556\n"
     ]
    },
    {
     "data": {
      "text/plain": [
       "<tensorflow.python.keras.callbacks.History at 0x1e682411a60>"
      ]
     },
     "execution_count": 107,
     "metadata": {},
     "output_type": "execute_result"
    }
   ],
   "source": [
    "embedding_size = 32\n",
    "\n",
    "loss = 'binary_crossentropy'\n",
    "optimizer = 'adam'\n",
    "metrics = 'accuracy'\n",
    "\n",
    "epochs = 3\n",
    "batch_size = 64\n",
    "\n",
    "\n",
    "model = create_model(top_words, max_review_length, embedding_size)\n",
    "model.compile(loss=loss, \n",
    "              optimizer=optimizer,\n",
    "              metrics=[metrics])\n",
    "\n",
    "model.fit(spam_rnn_X_train, spam_rnn_y_train,\n",
    "          validation_data=(spam_rnn_X_test, spam_rnn_y_test),\n",
    "          epochs=epochs,\n",
    "          batch_size=batch_size)"
   ]
  },
  {
   "cell_type": "code",
   "execution_count": 108,
   "metadata": {},
   "outputs": [
    {
     "name": "stdout",
     "output_type": "stream",
     "text": [
      "Accuracy: 85.56%\n"
     ]
    }
   ],
   "source": [
    "# Final evaluation of the model\n",
    "spam_rnn_scores = model.evaluate(spam_rnn_X_test, spam_rnn_y_test, verbose=0)\n",
    "print(\"Accuracy: %.2f%%\" % (spam_rnn_scores[1]*100))"
   ]
  },
  {
   "cell_type": "markdown",
   "metadata": {},
   "source": [
    "### Data Visualisation"
   ]
  },
  {
   "cell_type": "code",
   "execution_count": 111,
   "metadata": {},
   "outputs": [
    {
     "data": {
      "text/plain": [
       "Text(0.5, 1.0, 'IMDB Movies Reviews Performance')"
      ]
     },
     "execution_count": 111,
     "metadata": {},
     "output_type": "execute_result"
    },
    {
     "data": {
      "image/png": "[encoded data removed]",
      "text/plain": [
       "<Figure size 432x288 with 1 Axes>"
      ]
     },
     "metadata": {},
     "output_type": "display_data"
    }
   ],
   "source": [
    "models_results_imdb = []\n",
    "models_results_imdb.append(imdb_rnn_scores[1])\n",
    "models_results_imdb.append(clf_mlp_imdb.score(data_imdb_X_test, data_imdb_Y_test))\n",
    "models_results_imdb.append(clf_svm_imdb.score(data_imdb_X_test, data_imdb_Y_test))\n",
    "\n",
    "labels = [\"RNN\", \"MLP\", \"SVM\"]\n",
    "y_pos = np.arange(len(labels))\n",
    "y_label = \"Accuracy\"\n",
    "\n",
    "plt.bar(y_pos, models_results_imdb ,align=\"center\",alpha=0.5)\n",
    "plt.xticks(y_pos, labels)\n",
    "plt.ylabel(y_label, fontsize=22)\n",
    "plt.title(\"IMDB Movies Reviews Performance\", fontsize=22)"
   ]
  },
  {
   "cell_type": "code",
   "execution_count": 112,
   "metadata": {},
   "outputs": [
    {
     "data": {
      "text/plain": [
       "Text(0.5, 1.0, 'SPAM Text Messages Performance')"
      ]
     },
     "execution_count": 112,
     "metadata": {},
     "output_type": "execute_result"
    },
    {
     "data": {
      "image/png": "[encoded data removed]",
      "text/plain": [
       "<Figure size 432x288 with 1 Axes>"
      ]
     },
     "metadata": {},
     "output_type": "display_data"
    }
   ],
   "source": [
    "models_results_spam = []\n",
    "models_results_spam.append(spam_rnn_scores[1])\n",
    "models_results_spam.append(clf_mlp_spam.score(data_spam_X_test, data_spam_y_test))\n",
    "models_results_spam.append(clf_svm_spam.score(data_spam_X_test, data_spam_y_test))\n",
    "\n",
    "labels = [\"RNN\", \"MLP\", \"SVM\"]\n",
    "y_pos = np.arange(len(labels))\n",
    "y_label = \"Accuracy\"\n",
    "\n",
    "plt.bar(y_pos, models_results_imdb ,align=\"center\",alpha=0.5)\n",
    "plt.xticks(y_pos, labels)\n",
    "plt.ylabel(y_label, fontsize=22)\n",
    "plt.title(\"SPAM Text Messages Performance\", fontsize=22)"
   ]
  },
  {
   "cell_type": "code",
   "execution_count": null,
   "metadata": {},
   "outputs": [],
   "source": []
  }
 ],
 "metadata": {
  "kernelspec": {
   "display_name": "Python 3",
   "language": "python",
   "name": "python3"
  },
  "language_info": {
   "codemirror_mode": {
    "name": "ipython",
    "version": 3
   },
   "file_extension": ".py",
   "mimetype": "text/x-python",
   "name": "python",
   "nbconvert_exporter": "python",
   "pygments_lexer": "ipython3",
   "version": "3.8.3"
  }
 },
 "nbformat": 4,
 "nbformat_minor": 4
}
