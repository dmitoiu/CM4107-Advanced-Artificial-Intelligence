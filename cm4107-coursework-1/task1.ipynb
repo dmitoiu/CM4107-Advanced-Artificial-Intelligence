{
 "cells": [
  {
   "cell_type": "markdown",
   "metadata": {},
   "source": [
    "### ----------------------------------------------------------------------------------------------------------------------\n",
    "### Darie-Dragos Mitoiu - 1905367\n",
    "### CM4107 Advanced Artificial Intelligence\n",
    "### Artificial Neural Network v1.0.0 26/10/2020\n",
    "### A jupyter notebook for an artificial neural network\n",
    "### ----------------------------------------------------------------------------------------------------------------------"
   ]
  },
  {
   "cell_type": "markdown",
   "metadata": {},
   "source": [
    "### Importing Libraries"
   ]
  },
  {
   "cell_type": "code",
   "execution_count": 2,
   "metadata": {},
   "outputs": [],
   "source": [
    "# Importing libraries\n",
    "import pandas as pd\n",
    "import numpy as np\n",
    "import scipy.special\n",
    "import matplotlib.pyplot as plt\n",
    "import seaborn as sns"
   ]
  },
  {
   "cell_type": "markdown",
   "metadata": {},
   "source": [
    "### Setting Preferences"
   ]
  },
  {
   "cell_type": "code",
   "execution_count": 3,
   "metadata": {},
   "outputs": [],
   "source": [
    "# Setting matplotlib inline\n",
    "%matplotlib inline"
   ]
  },
  {
   "cell_type": "code",
   "execution_count": 4,
   "metadata": {},
   "outputs": [],
   "source": [
    "# Setting seaborn style\n",
    "sns.set_style(\"darkgrid\")"
   ]
  },
  {
   "cell_type": "code",
   "execution_count": 5,
   "metadata": {},
   "outputs": [],
   "source": [
    "# Setting numpy seed\n",
    "np.random.seed(42)"
   ]
  },
  {
   "cell_type": "markdown",
   "metadata": {},
   "source": [
    "### Set Global Variables"
   ]
  },
  {
   "cell_type": "code",
   "execution_count": 6,
   "metadata": {},
   "outputs": [],
   "source": [
    "# Set the training file name\n",
    "train_file = \"data/mnist_train.csv\"\n",
    "# The testing file name\n",
    "test_file = \"data/mnist_test.csv\"\n",
    "\n",
    "# Set the number of input nodes\n",
    "input_nodes = 784\n",
    "# Set the number of hidden nodes\n",
    "hidden_nodes = 200\n",
    "# Set the number of output nodes\n",
    "output_nodes = 10\n",
    "\n",
    "# Set the epochs number\n",
    "epochs = 10\n",
    "# Set the batch size number\n",
    "batch_size = 1\n",
    "# Set the learning rate number\n",
    "learning_rate = 0.3"
   ]
  },
  {
   "cell_type": "markdown",
   "metadata": {},
   "source": [
    "### Load MNIST Training and Testing Datasets"
   ]
  },
  {
   "cell_type": "code",
   "execution_count": 7,
   "metadata": {},
   "outputs": [],
   "source": [
    "# Read the training dataset\n",
    "df_orig_train = pd.read_csv(train_file, header=None)\n",
    "# Read the testing dataset\n",
    "df_orig_test = pd.read_csv(test_file, header=None)"
   ]
  },
  {
   "cell_type": "markdown",
   "metadata": {},
   "source": [
    "### MNIST Training Data Insight"
   ]
  },
  {
   "cell_type": "code",
   "execution_count": 8,
   "metadata": {},
   "outputs": [
    {
     "name": "stdout",
     "output_type": "stream",
     "text": [
      "The number of records in the mnist training dataset is:  60000\n",
      "The number of columns in the mnist training dataset is:  785\n"
     ]
    }
   ],
   "source": [
    "print(\"The number of records in the mnist training dataset is: \",df_orig_train.shape[0])\n",
    "print(\"The number of columns in the mnist training dataset is: \", df_orig_train.shape[1])"
   ]
  },
  {
   "cell_type": "code",
   "execution_count": 9,
   "metadata": {},
   "outputs": [
    {
     "name": "stdout",
     "output_type": "stream",
     "text": [
      "<class 'pandas.core.frame.DataFrame'>\n",
      "RangeIndex: 60000 entries, 0 to 59999\n",
      "Columns: 785 entries, 0 to 784\n",
      "dtypes: int64(785)\n",
      "memory usage: 359.3 MB\n"
     ]
    }
   ],
   "source": [
    "# Show training dataset relevant information\n",
    "df_orig_train.info()"
   ]
  },
  {
   "cell_type": "code",
   "execution_count": 10,
   "metadata": {},
   "outputs": [
    {
     "data": {
      "text/html": [
       "<div>\n",
       "<style scoped>\n",
       "    .dataframe tbody tr th:only-of-type {\n",
       "        vertical-align: middle;\n",
       "    }\n",
       "\n",
       "    .dataframe tbody tr th {\n",
       "        vertical-align: top;\n",
       "    }\n",
       "\n",
       "    .dataframe thead th {\n",
       "        text-align: right;\n",
       "    }\n",
       "</style>\n",
       "<table border=\"1\" class=\"dataframe\">\n",
       "  <thead>\n",
       "    <tr style=\"text-align: right;\">\n",
       "      <th></th>\n",
       "      <th>0</th>\n",
       "      <th>1</th>\n",
       "      <th>2</th>\n",
       "      <th>3</th>\n",
       "      <th>4</th>\n",
       "      <th>5</th>\n",
       "      <th>6</th>\n",
       "      <th>7</th>\n",
       "      <th>8</th>\n",
       "      <th>9</th>\n",
       "      <th>...</th>\n",
       "      <th>775</th>\n",
       "      <th>776</th>\n",
       "      <th>777</th>\n",
       "      <th>778</th>\n",
       "      <th>779</th>\n",
       "      <th>780</th>\n",
       "      <th>781</th>\n",
       "      <th>782</th>\n",
       "      <th>783</th>\n",
       "      <th>784</th>\n",
       "    </tr>\n",
       "  </thead>\n",
       "  <tbody>\n",
       "    <tr>\n",
       "      <th>0</th>\n",
       "      <td>5</td>\n",
       "      <td>0</td>\n",
       "      <td>0</td>\n",
       "      <td>0</td>\n",
       "      <td>0</td>\n",
       "      <td>0</td>\n",
       "      <td>0</td>\n",
       "      <td>0</td>\n",
       "      <td>0</td>\n",
       "      <td>0</td>\n",
       "      <td>...</td>\n",
       "      <td>0</td>\n",
       "      <td>0</td>\n",
       "      <td>0</td>\n",
       "      <td>0</td>\n",
       "      <td>0</td>\n",
       "      <td>0</td>\n",
       "      <td>0</td>\n",
       "      <td>0</td>\n",
       "      <td>0</td>\n",
       "      <td>0</td>\n",
       "    </tr>\n",
       "    <tr>\n",
       "      <th>1</th>\n",
       "      <td>0</td>\n",
       "      <td>0</td>\n",
       "      <td>0</td>\n",
       "      <td>0</td>\n",
       "      <td>0</td>\n",
       "      <td>0</td>\n",
       "      <td>0</td>\n",
       "      <td>0</td>\n",
       "      <td>0</td>\n",
       "      <td>0</td>\n",
       "      <td>...</td>\n",
       "      <td>0</td>\n",
       "      <td>0</td>\n",
       "      <td>0</td>\n",
       "      <td>0</td>\n",
       "      <td>0</td>\n",
       "      <td>0</td>\n",
       "      <td>0</td>\n",
       "      <td>0</td>\n",
       "      <td>0</td>\n",
       "      <td>0</td>\n",
       "    </tr>\n",
       "    <tr>\n",
       "      <th>2</th>\n",
       "      <td>4</td>\n",
       "      <td>0</td>\n",
       "      <td>0</td>\n",
       "      <td>0</td>\n",
       "      <td>0</td>\n",
       "      <td>0</td>\n",
       "      <td>0</td>\n",
       "      <td>0</td>\n",
       "      <td>0</td>\n",
       "      <td>0</td>\n",
       "      <td>...</td>\n",
       "      <td>0</td>\n",
       "      <td>0</td>\n",
       "      <td>0</td>\n",
       "      <td>0</td>\n",
       "      <td>0</td>\n",
       "      <td>0</td>\n",
       "      <td>0</td>\n",
       "      <td>0</td>\n",
       "      <td>0</td>\n",
       "      <td>0</td>\n",
       "    </tr>\n",
       "    <tr>\n",
       "      <th>3</th>\n",
       "      <td>1</td>\n",
       "      <td>0</td>\n",
       "      <td>0</td>\n",
       "      <td>0</td>\n",
       "      <td>0</td>\n",
       "      <td>0</td>\n",
       "      <td>0</td>\n",
       "      <td>0</td>\n",
       "      <td>0</td>\n",
       "      <td>0</td>\n",
       "      <td>...</td>\n",
       "      <td>0</td>\n",
       "      <td>0</td>\n",
       "      <td>0</td>\n",
       "      <td>0</td>\n",
       "      <td>0</td>\n",
       "      <td>0</td>\n",
       "      <td>0</td>\n",
       "      <td>0</td>\n",
       "      <td>0</td>\n",
       "      <td>0</td>\n",
       "    </tr>\n",
       "    <tr>\n",
       "      <th>4</th>\n",
       "      <td>9</td>\n",
       "      <td>0</td>\n",
       "      <td>0</td>\n",
       "      <td>0</td>\n",
       "      <td>0</td>\n",
       "      <td>0</td>\n",
       "      <td>0</td>\n",
       "      <td>0</td>\n",
       "      <td>0</td>\n",
       "      <td>0</td>\n",
       "      <td>...</td>\n",
       "      <td>0</td>\n",
       "      <td>0</td>\n",
       "      <td>0</td>\n",
       "      <td>0</td>\n",
       "      <td>0</td>\n",
       "      <td>0</td>\n",
       "      <td>0</td>\n",
       "      <td>0</td>\n",
       "      <td>0</td>\n",
       "      <td>0</td>\n",
       "    </tr>\n",
       "  </tbody>\n",
       "</table>\n",
       "<p>5 rows × 785 columns</p>\n",
       "</div>"
      ],
      "text/plain": [
       "   0    1    2    3    4    5    6    7    8    9    ...  775  776  777  778  \\\n",
       "0    5    0    0    0    0    0    0    0    0    0  ...    0    0    0    0   \n",
       "1    0    0    0    0    0    0    0    0    0    0  ...    0    0    0    0   \n",
       "2    4    0    0    0    0    0    0    0    0    0  ...    0    0    0    0   \n",
       "3    1    0    0    0    0    0    0    0    0    0  ...    0    0    0    0   \n",
       "4    9    0    0    0    0    0    0    0    0    0  ...    0    0    0    0   \n",
       "\n",
       "   779  780  781  782  783  784  \n",
       "0    0    0    0    0    0    0  \n",
       "1    0    0    0    0    0    0  \n",
       "2    0    0    0    0    0    0  \n",
       "3    0    0    0    0    0    0  \n",
       "4    0    0    0    0    0    0  \n",
       "\n",
       "[5 rows x 785 columns]"
      ]
     },
     "execution_count": 10,
     "metadata": {},
     "output_type": "execute_result"
    }
   ],
   "source": [
    "# Show the head of the training dataset\n",
    "df_orig_train.head(5)"
   ]
  },
  {
   "cell_type": "markdown",
   "metadata": {},
   "source": [
    "### MNIST Testing Data Insight "
   ]
  },
  {
   "cell_type": "code",
   "execution_count": 11,
   "metadata": {},
   "outputs": [
    {
     "name": "stdout",
     "output_type": "stream",
     "text": [
      "The number of records in the mnist testing dataset is:  10000\n",
      "The number of columns in the mnist testing dataset is:  785\n"
     ]
    }
   ],
   "source": [
    "print(\"The number of records in the mnist testing dataset is: \",df_orig_test.shape[0])\n",
    "print(\"The number of columns in the mnist testing dataset is: \", df_orig_test.shape[1])"
   ]
  },
  {
   "cell_type": "code",
   "execution_count": 12,
   "metadata": {},
   "outputs": [
    {
     "name": "stdout",
     "output_type": "stream",
     "text": [
      "<class 'pandas.core.frame.DataFrame'>\n",
      "RangeIndex: 10000 entries, 0 to 9999\n",
      "Columns: 785 entries, 0 to 784\n",
      "dtypes: int64(785)\n",
      "memory usage: 59.9 MB\n"
     ]
    }
   ],
   "source": [
    "# Show testing dataset relevant information\n",
    "df_orig_test.info()"
   ]
  },
  {
   "cell_type": "code",
   "execution_count": 13,
   "metadata": {},
   "outputs": [
    {
     "data": {
      "text/html": [
       "<div>\n",
       "<style scoped>\n",
       "    .dataframe tbody tr th:only-of-type {\n",
       "        vertical-align: middle;\n",
       "    }\n",
       "\n",
       "    .dataframe tbody tr th {\n",
       "        vertical-align: top;\n",
       "    }\n",
       "\n",
       "    .dataframe thead th {\n",
       "        text-align: right;\n",
       "    }\n",
       "</style>\n",
       "<table border=\"1\" class=\"dataframe\">\n",
       "  <thead>\n",
       "    <tr style=\"text-align: right;\">\n",
       "      <th></th>\n",
       "      <th>0</th>\n",
       "      <th>1</th>\n",
       "      <th>2</th>\n",
       "      <th>3</th>\n",
       "      <th>4</th>\n",
       "      <th>5</th>\n",
       "      <th>6</th>\n",
       "      <th>7</th>\n",
       "      <th>8</th>\n",
       "      <th>9</th>\n",
       "      <th>...</th>\n",
       "      <th>775</th>\n",
       "      <th>776</th>\n",
       "      <th>777</th>\n",
       "      <th>778</th>\n",
       "      <th>779</th>\n",
       "      <th>780</th>\n",
       "      <th>781</th>\n",
       "      <th>782</th>\n",
       "      <th>783</th>\n",
       "      <th>784</th>\n",
       "    </tr>\n",
       "  </thead>\n",
       "  <tbody>\n",
       "    <tr>\n",
       "      <th>0</th>\n",
       "      <td>7</td>\n",
       "      <td>0</td>\n",
       "      <td>0</td>\n",
       "      <td>0</td>\n",
       "      <td>0</td>\n",
       "      <td>0</td>\n",
       "      <td>0</td>\n",
       "      <td>0</td>\n",
       "      <td>0</td>\n",
       "      <td>0</td>\n",
       "      <td>...</td>\n",
       "      <td>0</td>\n",
       "      <td>0</td>\n",
       "      <td>0</td>\n",
       "      <td>0</td>\n",
       "      <td>0</td>\n",
       "      <td>0</td>\n",
       "      <td>0</td>\n",
       "      <td>0</td>\n",
       "      <td>0</td>\n",
       "      <td>0</td>\n",
       "    </tr>\n",
       "    <tr>\n",
       "      <th>1</th>\n",
       "      <td>2</td>\n",
       "      <td>0</td>\n",
       "      <td>0</td>\n",
       "      <td>0</td>\n",
       "      <td>0</td>\n",
       "      <td>0</td>\n",
       "      <td>0</td>\n",
       "      <td>0</td>\n",
       "      <td>0</td>\n",
       "      <td>0</td>\n",
       "      <td>...</td>\n",
       "      <td>0</td>\n",
       "      <td>0</td>\n",
       "      <td>0</td>\n",
       "      <td>0</td>\n",
       "      <td>0</td>\n",
       "      <td>0</td>\n",
       "      <td>0</td>\n",
       "      <td>0</td>\n",
       "      <td>0</td>\n",
       "      <td>0</td>\n",
       "    </tr>\n",
       "    <tr>\n",
       "      <th>2</th>\n",
       "      <td>1</td>\n",
       "      <td>0</td>\n",
       "      <td>0</td>\n",
       "      <td>0</td>\n",
       "      <td>0</td>\n",
       "      <td>0</td>\n",
       "      <td>0</td>\n",
       "      <td>0</td>\n",
       "      <td>0</td>\n",
       "      <td>0</td>\n",
       "      <td>...</td>\n",
       "      <td>0</td>\n",
       "      <td>0</td>\n",
       "      <td>0</td>\n",
       "      <td>0</td>\n",
       "      <td>0</td>\n",
       "      <td>0</td>\n",
       "      <td>0</td>\n",
       "      <td>0</td>\n",
       "      <td>0</td>\n",
       "      <td>0</td>\n",
       "    </tr>\n",
       "    <tr>\n",
       "      <th>3</th>\n",
       "      <td>0</td>\n",
       "      <td>0</td>\n",
       "      <td>0</td>\n",
       "      <td>0</td>\n",
       "      <td>0</td>\n",
       "      <td>0</td>\n",
       "      <td>0</td>\n",
       "      <td>0</td>\n",
       "      <td>0</td>\n",
       "      <td>0</td>\n",
       "      <td>...</td>\n",
       "      <td>0</td>\n",
       "      <td>0</td>\n",
       "      <td>0</td>\n",
       "      <td>0</td>\n",
       "      <td>0</td>\n",
       "      <td>0</td>\n",
       "      <td>0</td>\n",
       "      <td>0</td>\n",
       "      <td>0</td>\n",
       "      <td>0</td>\n",
       "    </tr>\n",
       "    <tr>\n",
       "      <th>4</th>\n",
       "      <td>4</td>\n",
       "      <td>0</td>\n",
       "      <td>0</td>\n",
       "      <td>0</td>\n",
       "      <td>0</td>\n",
       "      <td>0</td>\n",
       "      <td>0</td>\n",
       "      <td>0</td>\n",
       "      <td>0</td>\n",
       "      <td>0</td>\n",
       "      <td>...</td>\n",
       "      <td>0</td>\n",
       "      <td>0</td>\n",
       "      <td>0</td>\n",
       "      <td>0</td>\n",
       "      <td>0</td>\n",
       "      <td>0</td>\n",
       "      <td>0</td>\n",
       "      <td>0</td>\n",
       "      <td>0</td>\n",
       "      <td>0</td>\n",
       "    </tr>\n",
       "  </tbody>\n",
       "</table>\n",
       "<p>5 rows × 785 columns</p>\n",
       "</div>"
      ],
      "text/plain": [
       "   0    1    2    3    4    5    6    7    8    9    ...  775  776  777  778  \\\n",
       "0    7    0    0    0    0    0    0    0    0    0  ...    0    0    0    0   \n",
       "1    2    0    0    0    0    0    0    0    0    0  ...    0    0    0    0   \n",
       "2    1    0    0    0    0    0    0    0    0    0  ...    0    0    0    0   \n",
       "3    0    0    0    0    0    0    0    0    0    0  ...    0    0    0    0   \n",
       "4    4    0    0    0    0    0    0    0    0    0  ...    0    0    0    0   \n",
       "\n",
       "   779  780  781  782  783  784  \n",
       "0    0    0    0    0    0    0  \n",
       "1    0    0    0    0    0    0  \n",
       "2    0    0    0    0    0    0  \n",
       "3    0    0    0    0    0    0  \n",
       "4    0    0    0    0    0    0  \n",
       "\n",
       "[5 rows x 785 columns]"
      ]
     },
     "execution_count": 13,
     "metadata": {},
     "output_type": "execute_result"
    }
   ],
   "source": [
    "# Show the head of the testing dataset\n",
    "df_orig_test.head(5)"
   ]
  },
  {
   "cell_type": "markdown",
   "metadata": {},
   "source": [
    "### MNIST Training Data Frame Dimensionality"
   ]
  },
  {
   "cell_type": "code",
   "execution_count": 14,
   "metadata": {},
   "outputs": [
    {
     "name": "stdout",
     "output_type": "stream",
     "text": [
      "(60000, 10)\n",
      "(60000, 784)\n"
     ]
    }
   ],
   "source": [
    "y_train_all =  pd.get_dummies(df_orig_train[0]).values\n",
    "X_train_all = df_orig_train.drop(0, axis = 1).values\n",
    "print(y_train_all.shape)\n",
    "print(X_train_all.shape)"
   ]
  },
  {
   "cell_type": "markdown",
   "metadata": {},
   "source": [
    "### MNIST Testing Data Frame Dimensionality"
   ]
  },
  {
   "cell_type": "code",
   "execution_count": 16,
   "metadata": {},
   "outputs": [
    {
     "name": "stdout",
     "output_type": "stream",
     "text": [
      "(10000, 10)\n",
      "(10000, 784)\n",
      "[[0 0 0 ... 0 0 0]\n",
      " [0 0 0 ... 0 0 0]\n",
      " [0 0 0 ... 0 0 0]\n",
      " ...\n",
      " [0 0 0 ... 0 0 0]\n",
      " [0 0 0 ... 0 0 0]\n",
      " [0 0 0 ... 0 0 0]]\n"
     ]
    }
   ],
   "source": [
    "y_test_all =  pd.get_dummies(df_orig_test[0]).values\n",
    "X_test_all = df_orig_test.drop(0, axis = 1).values\n",
    "print(y_test_all.shape)\n",
    "print(X_test_all.shape)"
   ]
  },
  {
   "cell_type": "markdown",
   "metadata": {},
   "source": [
    "### Data Pre-Processing"
   ]
  },
  {
   "cell_type": "code",
   "execution_count": 26,
   "metadata": {},
   "outputs": [
    {
     "name": "stdout",
     "output_type": "stream",
     "text": [
      "(1500, 10)\n",
      "(1500, 784)\n",
      "(1500, 10)\n",
      "(100, 10)\n",
      "(100, 784)\n"
     ]
    }
   ],
   "source": [
    "# Select smaller samples of the train and test datasets\n",
    "train_sample_size = 1500  # choosing a smaller sample instead of the entire dataset\n",
    "random_indices = np.random.choice(range(len(y_train_all)), train_sample_size, replace = False)\n",
    "\n",
    "X_train = X_train_all[random_indices]\n",
    "y_train = y_train_all[random_indices]\n",
    "print(y_train.shape)\n",
    "print(X_train.shape)\n",
    "\n",
    "#preprocessing steps\n",
    "X_train = (X_train / 255.0 * 0.99) + 0.01\n",
    "y_train = y_train + 0.01\n",
    "y_train = np.where(y_train != 1.01, y_train, 0.99)\n",
    "print(y_train.shape)\n",
    "\n",
    "test_sample_size = 100 \n",
    "random_test_indices = np.random.choice(range(len(y_test_all)), test_sample_size, replace = False)\n",
    "X_test = X_test_all[random_test_indices]\n",
    "y_test = y_test_all[random_test_indices]\n",
    "print(y_test.shape)\n",
    "print(X_test.shape)\n",
    "\n",
    "X_test = (X_test / 255.0 * 0.99) + 0.01\n",
    "y_test = y_test + 0.01\n",
    "y_test = np.where(y_test != 1.01, y_test, 0.99)"
   ]
  },
  {
   "cell_type": "markdown",
   "metadata": {},
   "source": [
    "### Utility Functions"
   ]
  },
  {
   "cell_type": "code",
   "execution_count": 27,
   "metadata": {},
   "outputs": [],
   "source": [
    "def mean_squared_error(predictions, targets):\n",
    "    \"\"\"\n",
    "    Calculates mean squared error of a model's predictions.\n",
    "    \"\"\"\n",
    "    N=targets.size\n",
    "    mse = ((targets - predictions) **2).sum() / (2*N)\n",
    "    return mse\n",
    "\n",
    "\n",
    "def accuracy(predictions, targets):\n",
    "    \"\"\"\n",
    "    Calculates the accuracy of a model's predictions.\n",
    "    \"\"\"\n",
    "    prediction_labels = np.argmax(predictions, axis=1)\n",
    "    target_labels = np.argmax(targets, axis=1)\n",
    "    predictions_correct = (prediction_labels == target_labels.round())\n",
    "    accuracy = predictions_correct.mean()\n",
    "    return accuracy"
   ]
  },
  {
   "cell_type": "markdown",
   "metadata": {},
   "source": [
    "### Activation Classes"
   ]
  },
  {
   "cell_type": "code",
   "execution_count": 28,
   "metadata": {},
   "outputs": [],
   "source": [
    "class Activation_ReLU:\n",
    "    def forward(self, inputs):\n",
    "        self.output = np.maximum(0, inputs)\n",
    "    def backward(self, inputs):\n",
    "        self.output = np.greater(inputs, 0).astype(int) # inputs > 0 then convert bools to int\n",
    "        \n",
    "class Activation_Sigmoid:\n",
    "    def forward(self, x):\n",
    "        return(1 / (1 + np.exp(-x)))\n",
    "    def backward(self, x):\n",
    "        return(x * ( 1 - x))"
   ]
  },
  {
   "cell_type": "markdown",
   "metadata": {},
   "source": [
    "### Layer Class"
   ]
  },
  {
   "cell_type": "code",
   "execution_count": 29,
   "metadata": {},
   "outputs": [],
   "source": [
    "class Layer_Dense:\n",
    "    def __init__(self, n_inputs, n_neurons, learningrate=0.01, activation='sigmoid'):\n",
    "        \n",
    "        self.weights = np.random.normal(0.0, pow(n_inputs, -0.5), (n_inputs, n_neurons))\n",
    "        print(self.weights.shape)\n",
    "        self.biases = np.zeros((1, n_neurons))\n",
    "       \n",
    "        self.lr = learningrate\n",
    "        self.activate=activation  \n",
    "        \n",
    "    def forward(self, inputs):\n",
    "        self.in_values = inputs\n",
    "        self.layer_input = np.dot(inputs , self.weights) + self.biases\n",
    "        self.activation()\n",
    "    \n",
    "    def activation(self):\n",
    "        if self.activate == 'sigmoid':\n",
    "            a = Activation_Sigmoid()\n",
    "            self.layer_output = a.forward(self.layer_input)\n",
    "            \n",
    "           \n",
    "    def del_activation(self):\n",
    "        if self.activate == 'sigmoid':\n",
    "            del_a = Activation_Sigmoid()\n",
    "            self.del_layer_output =  del_a.backward(del_a.forward(self.layer_input))\n",
    "      \n",
    "    def backward(self, delta_in, weights_in, targets=None, output_layer=False):\n",
    "        self.del_activation()\n",
    "        if output_layer:\n",
    "            self.layer_error = self.layer_output - targets\n",
    "            self.layer_delta = self.layer_error * self.del_layer_output\n",
    "        else:          \n",
    "            self.layer_error = np.dot(delta_in, weights_in.T)\n",
    "            self.layer_delta = self.layer_error * self.del_layer_output\n",
    "        \n",
    "    def weight_update(self, prev_layer_output):\n",
    "        # print(\"prev_layer_output.T.shape: \"+str(prev_layer_output.T.shape))\n",
    "        # print(\"self.layer_delta.shape: \"+str(self.layer_delta.shape))\n",
    "        N = self.layer_delta.shape[0]\n",
    "        weights_update = np.dot(prev_layer_output.T, self.layer_delta) / N\n",
    "        # print(weights_update.shape)\n",
    "        self.weights -= self.lr * weights_update\n",
    "        biases_update = np.mean(self.layer_delta, axis=0, keepdims=True)\n",
    "        # print(\"biases_update.shape: \"+ str(biases_update.shape))\n",
    "        # print(\"self.biases.shape: \"+ str(self.biases.shape))\n",
    "        self.biases -= self.lr * biases_update"
   ]
  },
  {
   "cell_type": "markdown",
   "metadata": {},
   "source": [
    "### Creating Layers"
   ]
  },
  {
   "cell_type": "code",
   "execution_count": 30,
   "metadata": {
    "scrolled": false
   },
   "outputs": [
    {
     "name": "stdout",
     "output_type": "stream",
     "text": [
      "(784, 200)\n",
      "(200, 10)\n"
     ]
    },
    {
     "data": {
      "text/html": [
       "<div>\n",
       "<style scoped>\n",
       "    .dataframe tbody tr th:only-of-type {\n",
       "        vertical-align: middle;\n",
       "    }\n",
       "\n",
       "    .dataframe tbody tr th {\n",
       "        vertical-align: top;\n",
       "    }\n",
       "\n",
       "    .dataframe thead th {\n",
       "        text-align: right;\n",
       "    }\n",
       "</style>\n",
       "<table border=\"1\" class=\"dataframe\">\n",
       "  <thead>\n",
       "    <tr style=\"text-align: right;\">\n",
       "      <th></th>\n",
       "      <th>mean_squared_error</th>\n",
       "      <th>accuracy</th>\n",
       "    </tr>\n",
       "  </thead>\n",
       "  <tbody>\n",
       "    <tr>\n",
       "      <th>0</th>\n",
       "      <td>0.115913</td>\n",
       "      <td>0.104000</td>\n",
       "    </tr>\n",
       "    <tr>\n",
       "      <th>1</th>\n",
       "      <td>0.111464</td>\n",
       "      <td>0.104000</td>\n",
       "    </tr>\n",
       "    <tr>\n",
       "      <th>2</th>\n",
       "      <td>0.107237</td>\n",
       "      <td>0.104000</td>\n",
       "    </tr>\n",
       "    <tr>\n",
       "      <th>3</th>\n",
       "      <td>0.103236</td>\n",
       "      <td>0.104000</td>\n",
       "    </tr>\n",
       "    <tr>\n",
       "      <th>4</th>\n",
       "      <td>0.099461</td>\n",
       "      <td>0.104000</td>\n",
       "    </tr>\n",
       "    <tr>\n",
       "      <th>...</th>\n",
       "      <td>...</td>\n",
       "      <td>...</td>\n",
       "    </tr>\n",
       "    <tr>\n",
       "      <th>95</th>\n",
       "      <td>0.044720</td>\n",
       "      <td>0.164667</td>\n",
       "    </tr>\n",
       "    <tr>\n",
       "      <th>96</th>\n",
       "      <td>0.044681</td>\n",
       "      <td>0.164667</td>\n",
       "    </tr>\n",
       "    <tr>\n",
       "      <th>97</th>\n",
       "      <td>0.044642</td>\n",
       "      <td>0.164000</td>\n",
       "    </tr>\n",
       "    <tr>\n",
       "      <th>98</th>\n",
       "      <td>0.044605</td>\n",
       "      <td>0.165333</td>\n",
       "    </tr>\n",
       "    <tr>\n",
       "      <th>99</th>\n",
       "      <td>0.044568</td>\n",
       "      <td>0.166000</td>\n",
       "    </tr>\n",
       "  </tbody>\n",
       "</table>\n",
       "<p>100 rows × 2 columns</p>\n",
       "</div>"
      ],
      "text/plain": [
       "    mean_squared_error  accuracy\n",
       "0             0.115913  0.104000\n",
       "1             0.111464  0.104000\n",
       "2             0.107237  0.104000\n",
       "3             0.103236  0.104000\n",
       "4             0.099461  0.104000\n",
       "..                 ...       ...\n",
       "95            0.044720  0.164667\n",
       "96            0.044681  0.164667\n",
       "97            0.044642  0.164000\n",
       "98            0.044605  0.165333\n",
       "99            0.044568  0.166000\n",
       "\n",
       "[100 rows x 2 columns]"
      ]
     },
     "execution_count": 30,
     "metadata": {},
     "output_type": "execute_result"
    }
   ],
   "source": [
    "layer1 = Layer_Dense(784, 200) # set the weight matrix dimensions (input nodes x hidden nodes)\n",
    "output = Layer_Dense(200, 10) # set the weight matrix dimensions (hidden nodes x output nodes)\n",
    "\n",
    "# maintain a dataframe to keep track of the network error\n",
    "monitoring = {}\n",
    "monitoring['mean_squared_error'] = []\n",
    "monitoring['accuracy'] = []\n",
    "\n",
    "# iterate and update weights at each epoch\n",
    "for epoch in range(100):\n",
    "    layer1.forward(X_train)\n",
    "    # print('layer1 output \\n' ,layer1.layer_output.shape)\n",
    "    output.forward(layer1.layer_output)\n",
    "    # print('layer output  \\n', output.layer_output.shape)\n",
    "\n",
    "    # train metrics\n",
    "    pred = output.layer_output\n",
    "    mse = mean_squared_error(pred, y_train)\n",
    "    acc = accuracy(output.layer_output, y_train)\n",
    "    monitoring['mean_squared_error'].append(mse)\n",
    "    monitoring['accuracy'].append(acc)\n",
    "\n",
    "    # backprop through the layers \n",
    "    output.backward(None, None, y_train, True)\n",
    "    # print('layer out delta  \\n', output.layer_delta.shape)\n",
    "    layer1.backward(output.layer_delta, output.weights)\n",
    "    # print('layer1 delta  \\n', layer1.layer_delta.shape)\n",
    "\n",
    "    # update all the layer weights\n",
    "    output.weight_update(layer1.layer_output)\n",
    "    # print('layer weights  \\n', output.weights.shape)\n",
    "    layer1.weight_update(X_train)\n",
    "    # print('layer weights  \\n', layer1.weights.shape)\n",
    "\n",
    "monitoring_df = pd.DataFrame(monitoring)   \n",
    "monitoring_df"
   ]
  },
  {
   "cell_type": "markdown",
   "metadata": {},
   "source": [
    "### Creating Artificial Neural Network"
   ]
  },
  {
   "cell_type": "code",
   "execution_count": 31,
   "metadata": {},
   "outputs": [],
   "source": [
    "class ANN():\n",
    "    def __init__(self, ouput_layer, hidden_layer, batch_size = 10):\n",
    "        self.output = ouput_layer\n",
    "        self.layer1 = hidden_layer\n",
    "        self.batch_size = batch_size\n",
    "\n",
    "    def batch_input(self, x, y):\n",
    "        for i in range(0, len(x), self.batch_size):\n",
    "            yield (x[i:i + self.batch_size], y[i:i + self.batch_size])\n",
    "\n",
    "    def train(self, x, y, epochs, lr):\n",
    "        self.layer1.lr = lr\n",
    "        self.output.lr = lr\n",
    "\n",
    "        monitoring = {}\n",
    "        monitoring['mean_squared_error'] = []\n",
    "        monitoring['accuracy'] = []\n",
    "\n",
    "        for epoch in range(epochs):\n",
    "\n",
    "            for (batch_x, batch_y) in self.batch_input(x, y):\n",
    "                self.layer1.forward(batch_x)\n",
    "                # print('layer1 output \\n' ,layer1.layer_output.shape)\n",
    "                self.output.forward(self.layer1.layer_output)\n",
    "                # print('layer output  \\n', output.layer_output.shape)\n",
    "\n",
    "                # backprop through the layers \n",
    "                self.output.backward(None, None, batch_y, True)\n",
    "                # print('layer out delta  \\n', output.layer_delta.shape)\n",
    "                self.layer1.backward(self.output.layer_delta, self.output.weights)\n",
    "                # print('layer1 delta  \\n', layer1.layer_delta.shape)\n",
    "\n",
    "                # update all the layer weights\n",
    "                self.output.weight_update(self.layer1.layer_output)\n",
    "                # print('layer weights  \\n', output.weights.shape)\n",
    "                self.layer1.weight_update(batch_x)\n",
    "                # print('layer weights  \\n', layer1.weights.shape)\n",
    "            pred = self.predict(x)\n",
    "            mse, acc = self.evaluate(pred, y)\n",
    "            monitoring['mean_squared_error'].append(mse)\n",
    "            monitoring['accuracy'].append(acc)\n",
    "\n",
    "        monitoring_df = pd.DataFrame(monitoring)   \n",
    "        return monitoring_df\n",
    "\n",
    "    def predict(self, x):\n",
    "        self.layer1.forward(x)\n",
    "        self.output.forward(self.layer1.layer_output)\n",
    "        return self.output.layer_output\n",
    "\n",
    "    def evaluate(self, predicts, y):\n",
    "        mse = mean_squared_error(predicts, y)\n",
    "        acc = accuracy(predicts, y)\n",
    "        return mse, acc\n",
    "\n",
    "    def test(self, x, y):\n",
    "        monitoring = {}\n",
    "        pred = self.predict(x)\n",
    "        mse, acc = self.evaluate(pred, y)\n",
    "        monitoring['mean_squared_error'] = [mse]\n",
    "        monitoring['accuracy'] = [acc]\n",
    "        return pd.DataFrame(monitoring)"
   ]
  },
  {
   "cell_type": "markdown",
   "metadata": {},
   "source": [
    "### Evaluation of Hyper-Parameters"
   ]
  },
  {
   "cell_type": "markdown",
   "metadata": {},
   "source": [
    "### Default Hyper-Parameters"
   ]
  },
  {
   "cell_type": "code",
   "execution_count": 32,
   "metadata": {},
   "outputs": [],
   "source": [
    "np.random.seed(42)\n",
    "\n",
    "# Configurations of hidden node layer\n",
    "hidden_nodes = [200, 5]\n",
    "\n",
    "# Default hyper-parameters\n",
    "batch_size = 20\n",
    "epochs = 10\n",
    "lr = 0.3"
   ]
  },
  {
   "cell_type": "markdown",
   "metadata": {},
   "source": [
    "### Epochs Testing Values"
   ]
  },
  {
   "cell_type": "code",
   "execution_count": 33,
   "metadata": {},
   "outputs": [],
   "source": [
    "# Declaring epochs array\n",
    "epochs_values = [10, 50, 100, 150, 200]"
   ]
  },
  {
   "cell_type": "markdown",
   "metadata": {},
   "source": [
    "#### Creating Artificial Neural Network Models"
   ]
  },
  {
   "cell_type": "code",
   "execution_count": 34,
   "metadata": {},
   "outputs": [
    {
     "name": "stdout",
     "output_type": "stream",
     "text": [
      "Creating ANN models using the epochs array:  [10, 50, 100, 150, 200]\n",
      "(784, 200)\n",
      "(200, 10)\n",
      "(784, 200)\n",
      "(200, 10)\n",
      "(784, 200)\n",
      "(200, 10)\n",
      "(784, 200)\n",
      "(200, 10)\n",
      "(784, 200)\n",
      "(200, 10)\n",
      "Process Completed.\n"
     ]
    }
   ],
   "source": [
    "epochs_ann_list = []\n",
    "epochs_train_results_list = []\n",
    "print(\"Creating ANN models using the epochs array: \", epochs_values)\n",
    "for epoch in epochs_values:\n",
    "    # configure the layers\n",
    "    epochs_hidden_layer = Layer_Dense(784,200)\n",
    "    epochs_output_layer = Layer_Dense(200,10)\n",
    "\n",
    "    # create an ANN model\n",
    "    epochs_ann = ANN(epochs_output_layer, epochs_hidden_layer, batch_size=20)\n",
    "    epochs_train_performance = epochs_ann.train(X_train, y_train, epoch, lr=0.3) # train the model\n",
    "\n",
    "    epochs_train_results_list.append(epochs_train_performance)\n",
    "    epochs_ann_list.append(epochs_ann) # maintain each ANN model in a list\n",
    "\n",
    "print(\"Process Completed.\")"
   ]
  },
  {
   "cell_type": "markdown",
   "metadata": {},
   "source": [
    "#### Evaluating the Accuracy and Error rate of the ANN Models based on the number of Epochs"
   ]
  },
  {
   "cell_type": "code",
   "execution_count": 35,
   "metadata": {},
   "outputs": [
    {
     "name": "stdout",
     "output_type": "stream",
     "text": [
      "Mean Squared Error and Accuracy Results \n",
      " [(0.016867020772722584, 0.86), (0.009402140603180962, 0.89), (0.0080336499184702, 0.91), (0.007447751084037053, 0.92), (0.007043641149263216, 0.93)]\n"
     ]
    }
   ],
   "source": [
    "epochs_test_results_list = []\n",
    "for model in epochs_ann_list:\n",
    "    epochs_df_test_result = model.test(X_test, y_test)\n",
    "    mse=epochs_df_test_result['mean_squared_error'].values\n",
    "    acc=epochs_df_test_result['accuracy'].values\n",
    "    epochs_test_results_list.append((mse[0], acc[0]))\n",
    "    pass\n",
    "pass\n",
    "\n",
    "print (\"Mean Squared Error and Accuracy Results \\n {}\".format(epochs_test_results_list))"
   ]
  },
  {
   "cell_type": "code",
   "execution_count": 36,
   "metadata": {},
   "outputs": [
    {
     "data": {
      "text/html": [
       "<div>\n",
       "<style scoped>\n",
       "    .dataframe tbody tr th:only-of-type {\n",
       "        vertical-align: middle;\n",
       "    }\n",
       "\n",
       "    .dataframe tbody tr th {\n",
       "        vertical-align: top;\n",
       "    }\n",
       "\n",
       "    .dataframe thead th {\n",
       "        text-align: right;\n",
       "    }\n",
       "</style>\n",
       "<table border=\"1\" class=\"dataframe\">\n",
       "  <thead>\n",
       "    <tr style=\"text-align: right;\">\n",
       "      <th></th>\n",
       "      <th>mean_squared_error</th>\n",
       "      <th>accuracy</th>\n",
       "    </tr>\n",
       "  </thead>\n",
       "  <tbody>\n",
       "    <tr>\n",
       "      <th>10</th>\n",
       "      <td>0.016867</td>\n",
       "      <td>0.86</td>\n",
       "    </tr>\n",
       "    <tr>\n",
       "      <th>50</th>\n",
       "      <td>0.009402</td>\n",
       "      <td>0.89</td>\n",
       "    </tr>\n",
       "    <tr>\n",
       "      <th>100</th>\n",
       "      <td>0.008034</td>\n",
       "      <td>0.91</td>\n",
       "    </tr>\n",
       "    <tr>\n",
       "      <th>150</th>\n",
       "      <td>0.007448</td>\n",
       "      <td>0.92</td>\n",
       "    </tr>\n",
       "    <tr>\n",
       "      <th>200</th>\n",
       "      <td>0.007044</td>\n",
       "      <td>0.93</td>\n",
       "    </tr>\n",
       "  </tbody>\n",
       "</table>\n",
       "</div>"
      ],
      "text/plain": [
       "     mean_squared_error  accuracy\n",
       "10             0.016867      0.86\n",
       "50             0.009402      0.89\n",
       "100            0.008034      0.91\n",
       "150            0.007448      0.92\n",
       "200            0.007044      0.93"
      ]
     },
     "execution_count": 36,
     "metadata": {},
     "output_type": "execute_result"
    }
   ],
   "source": [
    "df_epochs_results = pd.DataFrame(epochs_test_results_list, columns=['mean_squared_error', 'accuracy'], index=epochs_values)\n",
    "df_epochs_results.head()"
   ]
  },
  {
   "cell_type": "markdown",
   "metadata": {},
   "source": [
    "#### Visualising the results for the array of epochs"
   ]
  },
  {
   "cell_type": "code",
   "execution_count": 37,
   "metadata": {},
   "outputs": [
    {
     "data": {
      "text/plain": [
       "Text(0, 0.5, 'Accuracy')"
      ]
     },
     "execution_count": 37,
     "metadata": {},
     "output_type": "execute_result"
    },
    {
     "data": {
      "image/png": "[encoded data removed]",
      "text/plain": [
       "<Figure size 1080x360 with 2 Axes>"
      ]
     },
     "metadata": {},
     "output_type": "display_data"
    }
   ],
   "source": [
    "epochs_objects = epochs_values\n",
    "epochs_performance = epochs_test_results_list\n",
    "\n",
    "# plot performances bars\n",
    "epochs_fig, epochs_axes = plt.subplots(1, 2, figsize=(15,5))\n",
    "y_pos = np.arange(len(epochs_objects))\n",
    "# get mean squared error from performance\n",
    "epochs_model_mse = [x[0] for x in epochs_performance]\n",
    "epochs_axes[0].bar(y_pos, epochs_model_mse, align='center', alpha=0.5)\n",
    "epochs_axes[0].set_xticks(y_pos)\n",
    "epochs_axes[0].set_xticklabels(epochs_objects)\n",
    "epochs_axes[0].set_xlabel(\"Epochs\")\n",
    "epochs_axes[0].set_ylabel(\"Mean Squared Error\")\n",
    "\n",
    "# plot accuracy from performance\n",
    "epochs_model_acc = [x[1] for x in epochs_performance]\n",
    "epochs_axes[1].bar(y_pos, epochs_model_acc, align='center', alpha=0.5)\n",
    "epochs_axes[1].set_xticks(y_pos)\n",
    "epochs_axes[1].set_xticklabels(epochs_objects)\n",
    "epochs_axes[1].set_xlabel(\"Epochs\", fontsize=22)\n",
    "epochs_axes[1].set_ylabel(\"Accuracy\", fontsize=22)"
   ]
  },
  {
   "cell_type": "code",
   "execution_count": 38,
   "metadata": {},
   "outputs": [
    {
     "name": "stdout",
     "output_type": "stream",
     "text": [
      "Percentage of training data used:  2.5\n",
      "This will take a few moments ...\n",
      "(784, 200)\n",
      "(200, 10)\n",
      "(784, 200)\n",
      "(200, 10)\n",
      "(784, 200)\n",
      "(200, 10)\n",
      "(784, 200)\n",
      "(200, 10)\n",
      "(784, 200)\n",
      "(200, 10)\n",
      "(784, 5)\n",
      "(5, 10)\n",
      "(784, 5)\n",
      "(5, 10)\n",
      "(784, 5)\n",
      "(5, 10)\n",
      "(784, 5)\n",
      "(5, 10)\n",
      "(784, 5)\n",
      "(5, 10)\n",
      "completed\n"
     ]
    }
   ],
   "source": [
    "# Try different configurations of hidden layer and batch size\n",
    "print(\"Percentage of training data used: \", (len(y_train)/len(y_train_all)) * 100)\n",
    "\n",
    "print(\"This will take a few moments ...\")\n",
    "train_results_list = []\n",
    "ann_list = []\n",
    "\n",
    "# lets create the set of modesl\n",
    "for hidden in hidden_nodes:\n",
    "    ann_list_element = [] # first set of nets with a given hidden node size\n",
    "    for epoch in epochs_values:\n",
    "        # configure the layers\n",
    "        hidden_layer = Layer_Dense(784, hidden)\n",
    "        output_layer = Layer_Dense(hidden, 10)\n",
    "        ann_ = ANN(output_layer, hidden_layer, batch_size=20) # create a new ANN model with a specific batch size\n",
    "        train_performance = ann_.train(X_train, y_train, epoch, lr=0.3) # train the model\n",
    "\n",
    "        train_results_list.append(train_performance)\n",
    "        ann_list_element.append(ann_) # maintain each ANN model in a list\n",
    " \n",
    "        pass\n",
    "    \n",
    "    ann_list.append(ann_list_element)# now append the set of models \n",
    "    pass\n",
    "\n",
    "#lets test the models \n",
    "model_results = []\n",
    "model_result_element = []\n",
    "\n",
    "for model1 in ann_list:\n",
    "    model_result_element = []\n",
    "    \n",
    "    for model2 in model1:\n",
    "        df_test_result = model2.test(X_test, y_test)\n",
    "        mse=df_test_result['mean_squared_error'].values\n",
    "        acc=df_test_result['accuracy'].values\n",
    "\n",
    "        model_result_element.append((mse[0], acc[0]))\n",
    "        pass\n",
    "    model_results.append(model_result_element)\n",
    "    pass\n",
    "\n",
    "print('completed')"
   ]
  },
  {
   "cell_type": "code",
   "execution_count": 39,
   "metadata": {},
   "outputs": [
    {
     "data": {
      "text/plain": [
       "Text(0.5, 1.0, 'Mean Squared Average')"
      ]
     },
     "execution_count": 39,
     "metadata": {},
     "output_type": "execute_result"
    },
    {
     "data": {
      "image/png": "[encoded data removed]",
      "text/plain": [
       "<Figure size 1080x360 with 2 Axes>"
      ]
     },
     "metadata": {},
     "output_type": "display_data"
    }
   ],
   "source": [
    "epochs_objects = epochs_values\n",
    "\n",
    "epochs_fig, epochs_axes = plt.subplots(1, 2, figsize=(15,5))\n",
    "\n",
    "y_pos = np.arange(len(epochs_objects))\n",
    "for result in model_results:\n",
    "    performance_mse = [x[0] for x in result]  # mean squared error\n",
    "    performance_acc = [x[1] for x in result]  # accuracy\n",
    "    epochs_axes[0].bar(y_pos, performance_acc, align='center', alpha=0.5 )  # add accuracy to plot\n",
    "    epochs_axes[1].bar(y_pos, performance_mse, align='center', alpha=0.5 )  #  add mean squared error to plot\n",
    "\n",
    "epochs_axes[0].legend(hidden_nodes)\n",
    "epochs_axes[0].set_xticks(y_pos)\n",
    "epochs_axes[0].set_xticklabels(epochs_objects)\n",
    "epochs_axes[0].set_xlabel(\"Epochs\")\n",
    "epochs_axes[0].set_title(\"Accuracy\")\n",
    "\n",
    "epochs_axes[1].legend(hidden_nodes)\n",
    "epochs_axes[1].set_xticks(y_pos)\n",
    "epochs_axes[1].set_xticklabels(epochs_objects)\n",
    "epochs_axes[1].set_xlabel(\"Epochs\")\n",
    "epochs_axes[1].set_title(\"Mean Squared Average\")"
   ]
  },
  {
   "cell_type": "markdown",
   "metadata": {},
   "source": [
    "### Learning Rate Testing Values"
   ]
  },
  {
   "cell_type": "code",
   "execution_count": 40,
   "metadata": {},
   "outputs": [],
   "source": [
    "# Declaring learning rate array\n",
    "learning_rate_values = [0.1, 0.2, 0.3, 0.4, 0.5, 0.6, 0.7, 0.8, 0.9, 1.0]"
   ]
  },
  {
   "cell_type": "markdown",
   "metadata": {},
   "source": [
    "#### Creating Artificial Neural Network Models"
   ]
  },
  {
   "cell_type": "code",
   "execution_count": 41,
   "metadata": {},
   "outputs": [
    {
     "name": "stdout",
     "output_type": "stream",
     "text": [
      "(784, 200)\n",
      "(200, 10)\n",
      "(784, 200)\n",
      "(200, 10)\n",
      "(784, 200)\n",
      "(200, 10)\n",
      "(784, 200)\n",
      "(200, 10)\n",
      "(784, 200)\n",
      "(200, 10)\n",
      "(784, 200)\n",
      "(200, 10)\n",
      "(784, 200)\n",
      "(200, 10)\n",
      "(784, 200)\n",
      "(200, 10)\n",
      "(784, 200)\n",
      "(200, 10)\n",
      "(784, 200)\n",
      "(200, 10)\n",
      "completed\n"
     ]
    }
   ],
   "source": [
    "learning_rate_ann_list = []\n",
    "learning_rate_train_results_list = []\n",
    "\n",
    "for rate in learning_rate_values:\n",
    "    # configure the layers\n",
    "    learning_rate_hidden_layer = Layer_Dense(784,200)\n",
    "    learning_rate_output_layer = Layer_Dense(200,10)\n",
    "\n",
    "    # create an ANN model\n",
    "    learning_rate_ann = ANN(learning_rate_output_layer, learning_rate_hidden_layer, batch_size=20)\n",
    "    learning_rate_train_performance = learning_rate_ann.train(X_train, y_train, epochs=20, lr=rate)\n",
    "\n",
    "    learning_rate_train_results_list.append(learning_rate_train_performance)\n",
    "    learning_rate_ann_list.append(learning_rate_ann) # maintain each ANN model in a list\n",
    "\n",
    "print('completed')"
   ]
  },
  {
   "cell_type": "markdown",
   "metadata": {},
   "source": [
    "#### Evaluating the Accuracy and Error rate of the ANN Models based on Learning Rate Values"
   ]
  },
  {
   "cell_type": "code",
   "execution_count": 43,
   "metadata": {},
   "outputs": [
    {
     "name": "stdout",
     "output_type": "stream",
     "text": [
      "Mean Squared Error and Accuracy Results \n",
      " [(0.020968628494255775, 0.84), (0.014347546201290438, 0.87), (0.011948989142301369, 0.87), (0.011112556955712529, 0.87), (0.01046421521337232, 0.87), (0.010164130947108305, 0.9), (0.00961479582204414, 0.9), (0.009386298585830129, 0.89), (0.009051498624260242, 0.89), (0.008924627788035816, 0.89)]\n"
     ]
    }
   ],
   "source": [
    "learning_rate_test_results_list = []\n",
    "\n",
    "for model in learning_rate_ann_list: \n",
    "    learning_rate_df_test_result = model.test(X_test, y_test)\n",
    "    learning_rate_mse=learning_rate_df_test_result['mean_squared_error'].values\n",
    "    learning_rate_acc=learning_rate_df_test_result['accuracy'].values\n",
    "\n",
    "    learning_rate_test_results_list.append((learning_rate_mse[0], learning_rate_acc[0]))\n",
    "\n",
    "    pass\n",
    "pass\n",
    "\n",
    "print (\"Mean Squared Error and Accuracy Results \\n {}\".format(learning_rate_test_results_list))"
   ]
  },
  {
   "cell_type": "code",
   "execution_count": 44,
   "metadata": {},
   "outputs": [
    {
     "data": {
      "text/html": [
       "<div>\n",
       "<style scoped>\n",
       "    .dataframe tbody tr th:only-of-type {\n",
       "        vertical-align: middle;\n",
       "    }\n",
       "\n",
       "    .dataframe tbody tr th {\n",
       "        vertical-align: top;\n",
       "    }\n",
       "\n",
       "    .dataframe thead th {\n",
       "        text-align: right;\n",
       "    }\n",
       "</style>\n",
       "<table border=\"1\" class=\"dataframe\">\n",
       "  <thead>\n",
       "    <tr style=\"text-align: right;\">\n",
       "      <th></th>\n",
       "      <th>mean_squared_error</th>\n",
       "      <th>accuracy</th>\n",
       "    </tr>\n",
       "  </thead>\n",
       "  <tbody>\n",
       "    <tr>\n",
       "      <th>0.1</th>\n",
       "      <td>0.020969</td>\n",
       "      <td>0.84</td>\n",
       "    </tr>\n",
       "    <tr>\n",
       "      <th>0.2</th>\n",
       "      <td>0.014348</td>\n",
       "      <td>0.87</td>\n",
       "    </tr>\n",
       "    <tr>\n",
       "      <th>0.3</th>\n",
       "      <td>0.011949</td>\n",
       "      <td>0.87</td>\n",
       "    </tr>\n",
       "    <tr>\n",
       "      <th>0.4</th>\n",
       "      <td>0.011113</td>\n",
       "      <td>0.87</td>\n",
       "    </tr>\n",
       "    <tr>\n",
       "      <th>0.5</th>\n",
       "      <td>0.010464</td>\n",
       "      <td>0.87</td>\n",
       "    </tr>\n",
       "    <tr>\n",
       "      <th>0.6</th>\n",
       "      <td>0.010164</td>\n",
       "      <td>0.90</td>\n",
       "    </tr>\n",
       "    <tr>\n",
       "      <th>0.7</th>\n",
       "      <td>0.009615</td>\n",
       "      <td>0.90</td>\n",
       "    </tr>\n",
       "    <tr>\n",
       "      <th>0.8</th>\n",
       "      <td>0.009386</td>\n",
       "      <td>0.89</td>\n",
       "    </tr>\n",
       "    <tr>\n",
       "      <th>0.9</th>\n",
       "      <td>0.009051</td>\n",
       "      <td>0.89</td>\n",
       "    </tr>\n",
       "    <tr>\n",
       "      <th>1.0</th>\n",
       "      <td>0.008925</td>\n",
       "      <td>0.89</td>\n",
       "    </tr>\n",
       "  </tbody>\n",
       "</table>\n",
       "</div>"
      ],
      "text/plain": [
       "     mean_squared_error  accuracy\n",
       "0.1            0.020969      0.84\n",
       "0.2            0.014348      0.87\n",
       "0.3            0.011949      0.87\n",
       "0.4            0.011113      0.87\n",
       "0.5            0.010464      0.87\n",
       "0.6            0.010164      0.90\n",
       "0.7            0.009615      0.90\n",
       "0.8            0.009386      0.89\n",
       "0.9            0.009051      0.89\n",
       "1.0            0.008925      0.89"
      ]
     },
     "execution_count": 44,
     "metadata": {},
     "output_type": "execute_result"
    }
   ],
   "source": [
    "df_learning_results = pd.DataFrame(learning_rate_test_results_list,\n",
    "                                   columns=['mean_squared_error', 'accuracy'],\n",
    "                                   index=learning_rate_values)\n",
    "df_learning_results.head(10)"
   ]
  },
  {
   "cell_type": "code",
   "execution_count": 45,
   "metadata": {},
   "outputs": [
    {
     "data": {
      "text/plain": [
       "Text(0, 0.5, 'Accuracy')"
      ]
     },
     "execution_count": 45,
     "metadata": {},
     "output_type": "execute_result"
    },
    {
     "data": {
      "image/png": "[encoded data removed]",
      "text/plain": [
       "<Figure size 1080x360 with 2 Axes>"
      ]
     },
     "metadata": {},
     "output_type": "display_data"
    }
   ],
   "source": [
    "rate_objects = learning_rate_values\n",
    "rate_performance = learning_rate_test_results_list\n",
    "\n",
    "# plot performances bars\n",
    "rate_fig, rate_axes = plt.subplots(1, 2, figsize=(15,5))\n",
    "y_pos = np.arange(len(rate_objects))\n",
    "# get mean squared error from performance\n",
    "rate_model_mse = [x[0] for x in rate_performance]\n",
    "rate_axes[0].bar(y_pos, rate_model_mse, align='center', alpha=0.5)\n",
    "rate_axes[0].set_xticks(y_pos)\n",
    "rate_axes[0].set_xticklabels(rate_objects)\n",
    "rate_axes[0].set_xlabel(\"Learning Rate\")\n",
    "rate_axes[0].set_ylabel(\"Mean Squared Error\")\n",
    "\n",
    "# plot accuracy from performance\n",
    "rate_model_acc = [x[1] for x in rate_performance]\n",
    "rate_axes[1].bar(y_pos, rate_model_acc, align='center', alpha=0.5)\n",
    "rate_axes[1].set_xticks(y_pos)\n",
    "rate_axes[1].set_xticklabels(rate_objects)\n",
    "rate_axes[1].set_xlabel(\"Learning Rate\", fontsize=22)\n",
    "rate_axes[1].set_ylabel(\"Accuracy\", fontsize=22)"
   ]
  },
  {
   "cell_type": "code",
   "execution_count": 46,
   "metadata": {},
   "outputs": [],
   "source": [
    "batch_values = [10, 50, 100, 200, 500, len(y_train)]  # lets try six different configurations of batch sizes"
   ]
  },
  {
   "cell_type": "code",
   "execution_count": 47,
   "metadata": {},
   "outputs": [
    {
     "name": "stdout",
     "output_type": "stream",
     "text": [
      "(784, 200)\n",
      "(200, 10)\n",
      "(784, 200)\n",
      "(200, 10)\n",
      "(784, 200)\n",
      "(200, 10)\n",
      "(784, 200)\n",
      "(200, 10)\n",
      "(784, 200)\n",
      "(200, 10)\n",
      "(784, 200)\n",
      "(200, 10)\n",
      "completed\n"
     ]
    }
   ],
   "source": [
    "batch_ann_list = []\n",
    "batch_results_list = []\n",
    "\n",
    "for batch_size in batch_values:\n",
    "    # configure the layers\n",
    "    batch_hidden_layer = Layer_Dense(784,200)\n",
    "    batch_output_layer = Layer_Dense(200,10)\n",
    "\n",
    "    # create an ANN model\n",
    "    batch_ann = ANN(batch_output_layer, batch_hidden_layer, batch_size)\n",
    "    batch_train_performance = batch_ann.train(X_train, y_train, epochs=20, lr=0.3)\n",
    "\n",
    "    batch_results_list.append(batch_train_performance)\n",
    "    batch_ann_list.append(batch_ann) # maintain each ANN model in a list\n",
    "\n",
    "print('completed')"
   ]
  },
  {
   "cell_type": "code",
   "execution_count": 48,
   "metadata": {},
   "outputs": [
    {
     "name": "stdout",
     "output_type": "stream",
     "text": [
      "Mean Squared Error and Accuracy Results \n",
      " [(0.010043174570122796, 0.89), (0.018696244640161536, 0.85), (0.028285139159385263, 0.69), (0.037304616591361764, 0.51), (0.041573084940705045, 0.44), (0.04261470009460825, 0.33)]\n"
     ]
    }
   ],
   "source": [
    "batch_test_results_list = []\n",
    "\n",
    "for model in batch_ann_list: \n",
    "    batch_df_test_result = model.test(X_test, y_test)\n",
    "    batch_mse=batch_df_test_result['mean_squared_error'].values\n",
    "    batch_acc=batch_df_test_result['accuracy'].values\n",
    "\n",
    "    batch_test_results_list.append((batch_mse[0], batch_acc[0]))\n",
    "\n",
    "    pass\n",
    "pass\n",
    "\n",
    "print (\"Mean Squared Error and Accuracy Results \\n {}\".format(batch_test_results_list))"
   ]
  },
  {
   "cell_type": "code",
   "execution_count": 50,
   "metadata": {},
   "outputs": [
    {
     "data": {
      "text/html": [
       "<div>\n",
       "<style scoped>\n",
       "    .dataframe tbody tr th:only-of-type {\n",
       "        vertical-align: middle;\n",
       "    }\n",
       "\n",
       "    .dataframe tbody tr th {\n",
       "        vertical-align: top;\n",
       "    }\n",
       "\n",
       "    .dataframe thead th {\n",
       "        text-align: right;\n",
       "    }\n",
       "</style>\n",
       "<table border=\"1\" class=\"dataframe\">\n",
       "  <thead>\n",
       "    <tr style=\"text-align: right;\">\n",
       "      <th></th>\n",
       "      <th>mean_squared_error</th>\n",
       "      <th>accuracy</th>\n",
       "    </tr>\n",
       "  </thead>\n",
       "  <tbody>\n",
       "    <tr>\n",
       "      <th>10</th>\n",
       "      <td>0.010043</td>\n",
       "      <td>0.89</td>\n",
       "    </tr>\n",
       "    <tr>\n",
       "      <th>50</th>\n",
       "      <td>0.018696</td>\n",
       "      <td>0.85</td>\n",
       "    </tr>\n",
       "    <tr>\n",
       "      <th>100</th>\n",
       "      <td>0.028285</td>\n",
       "      <td>0.69</td>\n",
       "    </tr>\n",
       "    <tr>\n",
       "      <th>200</th>\n",
       "      <td>0.037305</td>\n",
       "      <td>0.51</td>\n",
       "    </tr>\n",
       "    <tr>\n",
       "      <th>500</th>\n",
       "      <td>0.041573</td>\n",
       "      <td>0.44</td>\n",
       "    </tr>\n",
       "  </tbody>\n",
       "</table>\n",
       "</div>"
      ],
      "text/plain": [
       "     mean_squared_error  accuracy\n",
       "10             0.010043      0.89\n",
       "50             0.018696      0.85\n",
       "100            0.028285      0.69\n",
       "200            0.037305      0.51\n",
       "500            0.041573      0.44"
      ]
     },
     "execution_count": 50,
     "metadata": {},
     "output_type": "execute_result"
    }
   ],
   "source": [
    "df_batch_results = pd.DataFrame(batch_test_results_list, columns=['mean_squared_error', 'accuracy'], index=batch_values)\n",
    "df_batch_results.head()"
   ]
  },
  {
   "cell_type": "code",
   "execution_count": 54,
   "metadata": {},
   "outputs": [
    {
     "data": {
      "text/plain": [
       "Text(0, 0.5, 'Accuracy')"
      ]
     },
     "execution_count": 54,
     "metadata": {},
     "output_type": "execute_result"
    },
    {
     "data": {
      "image/png": "[encoded data removed]",
      "text/plain": [
       "<Figure size 1080x360 with 2 Axes>"
      ]
     },
     "metadata": {},
     "output_type": "display_data"
    }
   ],
   "source": [
    "batch_objects = batch_values\n",
    "batch_performance = batch_test_results_list\n",
    "\n",
    "# plot performances bars\n",
    "batch_fig, batch_axes = plt.subplots(1, 2, figsize=(15,5))\n",
    "y_pos = np.arange(len(batch_objects))\n",
    "# get mean squared error from performance\n",
    "batch_model_mse = [x[0] for x in batch_performance]\n",
    "batch_axes[0].bar(y_pos, batch_model_mse, align='center', alpha=0.5)\n",
    "batch_axes[0].set_xticks(y_pos)\n",
    "batch_axes[0].set_xticklabels(batch_objects)\n",
    "batch_axes[0].set_xlabel('Batch size')\n",
    "batch_axes[0].set_ylabel('Mean Squared Error')\n",
    "\n",
    "# plot accuracy from performance\n",
    "batch_model_acc = [x[1] for x in batch_performance]\n",
    "batch_axes[1].bar(y_pos, batch_model_acc, align='center', alpha=0.5)\n",
    "batch_axes[1].set_xticks(y_pos)\n",
    "batch_axes[1].set_xticklabels(batch_objects)\n",
    "batch_axes[1].set_xlabel('Batch size', fontsize=22)\n",
    "batch_axes[1].set_ylabel('Accuracy', fontsize=22)"
   ]
  },
  {
   "cell_type": "code",
   "execution_count": 56,
   "metadata": {},
   "outputs": [
    {
     "name": "stdout",
     "output_type": "stream",
     "text": [
      "Percentage of training data used:  2.5\n",
      "This will take a few moments ...\n",
      "(784, 200)\n",
      "(200, 10)\n",
      "(784, 200)\n",
      "(200, 10)\n",
      "(784, 200)\n",
      "(200, 10)\n",
      "(784, 200)\n",
      "(200, 10)\n",
      "(784, 200)\n",
      "(200, 10)\n",
      "(784, 200)\n",
      "(200, 10)\n",
      "(784, 5)\n",
      "(5, 10)\n",
      "(784, 5)\n",
      "(5, 10)\n",
      "(784, 5)\n",
      "(5, 10)\n",
      "(784, 5)\n",
      "(5, 10)\n",
      "(784, 5)\n",
      "(5, 10)\n",
      "(784, 5)\n",
      "(5, 10)\n",
      "completed\n"
     ]
    }
   ],
   "source": [
    "# Try different configurations of hidden layer and batch size\n",
    "print(\"Percentage of training data used: \", (len(y_train)/len(y_train_all)) * 100)\n",
    "\n",
    "print(\"This will take a few moments ...\")\n",
    "train_results_list = []\n",
    "ann_list = []\n",
    "hidden_nodes = [200, 5]  # two different configurations of hidden node layer\n",
    "\n",
    "# lets create the set of modesl\n",
    "for hidden in hidden_nodes:\n",
    "    ann_list_element = [] # first set of nets with a given hidden node size\n",
    "    for batch in batch_values:\n",
    "        # configure the layers\n",
    "        hidden_layer = Layer_Dense(784, hidden)\n",
    "        output_layer = Layer_Dense(hidden, 10)\n",
    "        ann_ = ANN(output_layer, hidden_layer, batch) # create a new ANN model with a specific batch size\n",
    "        train_performance = ann_.train(X_train, y_train, epochs=20, lr=0.3) # train the model\n",
    "\n",
    "        train_results_list.append(train_performance)\n",
    "        ann_list_element.append(ann_) # maintain each ANN model in a list\n",
    " \n",
    "        pass\n",
    "    \n",
    "    ann_list.append(ann_list_element)# now append the set of models \n",
    "    pass\n",
    "\n",
    "#lets test the models \n",
    "model_results = []\n",
    "model_result_element = []\n",
    "\n",
    "for model1 in ann_list:\n",
    "    model_result_element = []\n",
    "    \n",
    "    for model2 in model1:\n",
    "        df_test_result = model2.test(X_test, y_test)\n",
    "        mse=df_test_result['mean_squared_error'].values\n",
    "        acc=df_test_result['accuracy'].values\n",
    "\n",
    "        model_result_element.append((mse[0], acc[0]))\n",
    "        pass\n",
    "    model_results.append(model_result_element)\n",
    "    pass\n",
    "\n",
    "print('completed')"
   ]
  },
  {
   "cell_type": "code",
   "execution_count": null,
   "metadata": {},
   "outputs": [],
   "source": [
    "objects = batch_sizes\n",
    "\n",
    "fig, axes = plt.subplots(1, 2, figsize=(15,5))\n",
    "\n",
    "for result in model_results:\n",
    "    performance_mse = [x[0] for x in result]  # mean squared error\n",
    "    performance_acc = [x[1] for x in result]  # accuracy\n",
    "    axes[0].bar(y_pos, performance_acc, align='center', alpha=0.5 )  # add accuracy to plot\n",
    "    axes[1].bar(y_pos, performance_mse, align='center', alpha=0.5 )  #  add mean squared error to plot\n",
    "\n",
    "y_pos = np.arange(len(objects))\n",
    "axes[0].legend(hidden_nodes)\n",
    "axes[0].set_xticks(y_pos)\n",
    "axes[0].set_xticklabels(objects)\n",
    "axes[0].set_xlabel('Batch size')\n",
    "axes[0].set_title('Accuracy')\n",
    "\n",
    "axes[1].legend(hidden_nodes)\n",
    "axes[1].set_xticks(y_pos)\n",
    "axes[1].set_xticklabels(objects)\n",
    "axes[1].set_xlabel('Batch size')\n",
    "axes[1].set_title('Mean Squared Average')"
   ]
  },
  {
   "cell_type": "code",
   "execution_count": null,
   "metadata": {},
   "outputs": [],
   "source": []
  },
  {
   "cell_type": "code",
   "execution_count": null,
   "metadata": {},
   "outputs": [],
   "source": []
  }
 ],
 "metadata": {
  "kernelspec": {
   "display_name": "Python 3",
   "language": "python",
   "name": "python3"
  },
  "language_info": {
   "codemirror_mode": {
    "name": "ipython",
    "version": 3
   },
   "file_extension": ".py",
   "mimetype": "text/x-python",
   "name": "python",
   "nbconvert_exporter": "python",
   "pygments_lexer": "ipython3",
   "version": "3.8.3"
  }
 },
 "nbformat": 4,
 "nbformat_minor": 4
}
